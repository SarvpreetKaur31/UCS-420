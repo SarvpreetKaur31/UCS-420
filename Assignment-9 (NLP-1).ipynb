{
 "cells": [
  {
   "cell_type": "code",
   "execution_count": 3,
   "id": "c6dff568",
   "metadata": {},
   "outputs": [
    {
     "name": "stderr",
     "output_type": "stream",
     "text": [
      "[nltk_data] Downloading package punkt to C:\\Users\\SARVPREET\n",
      "[nltk_data]     KAUR\\AppData\\Roaming\\nltk_data...\n",
      "[nltk_data]   Package punkt is already up-to-date!\n"
     ]
    },
    {
     "data": {
      "text/plain": [
       "True"
      ]
     },
     "execution_count": 3,
     "metadata": {},
     "output_type": "execute_result"
    }
   ],
   "source": [
    "import nltk\n",
    "nltk.download('punkt')"
   ]
  },
  {
   "cell_type": "code",
   "execution_count": 4,
   "id": "ea4a4a86",
   "metadata": {},
   "outputs": [
    {
     "name": "stderr",
     "output_type": "stream",
     "text": [
      "[nltk_data] Downloading package stopwords to C:\\Users\\SARVPREET\n",
      "[nltk_data]     KAUR\\AppData\\Roaming\\nltk_data...\n",
      "[nltk_data]   Package stopwords is already up-to-date!\n"
     ]
    }
   ],
   "source": [
    "from nltk.tokenize import word_tokenize\n",
    "from nltk.tokenize import sent_tokenize\n",
    "nltk.download('stopwords')\n",
    "from nltk.corpus import stopwords"
   ]
  },
  {
   "cell_type": "code",
   "execution_count": 11,
   "id": "b5db477f",
   "metadata": {},
   "outputs": [
    {
     "name": "stdout",
     "output_type": "stream",
     "text": [
      "astronomy is a natural science that studies celestial objects and the\n",
      "phenomena that occur in the cosmos. it uses mathematics, physics, and\n",
      "chemistry in order to explain their origin and their overall\n",
      "evolution. objects of interest include planets, moons, stars, nebulae,\n",
      "galaxies, meteoroids, asteroids, and comets. relevant phenomena\n",
      "include supernova explosions, gamma ray bursts, quasars, blazars,\n",
      "pulsars, and cosmic microwave background radiation. more generally,\n",
      "astronomy studies everything that originates beyond earth's\n",
      "atmosphere. cosmology is a branch of astronomy that studies the\n",
      "universe as a whole.\n"
     ]
    }
   ],
   "source": [
    "import textwrap\n",
    "import string\n",
    "text=\"\"\"Astronomy is a natural science that studies celestial objects and the phenomena that occur in the cosmos. It uses mathematics, physics, and chemistry in order to explain their origin and their overall evolution. Objects of interest include planets, moons, stars, nebulae, galaxies, meteoroids, asteroids, and comets. Relevant phenomena include supernova explosions, gamma ray bursts, quasars, blazars, pulsars, and cosmic microwave background radiation. More generally, astronomy studies everything that originates beyond Earth's atmosphere. Cosmology is a branch of astronomy that studies the universe as a whole.\"\"\"\n",
    "text=text.lower()\n",
    "#text = text.translate(str.maketrans(\"\", \"\", string.punctuation))\n",
    "wrapped_text = textwrap.fill(text, width=70)\n",
    "print(wrapped_text)"
   ]
  },
  {
   "cell_type": "code",
   "execution_count": 12,
   "id": "4e8216c4",
   "metadata": {},
   "outputs": [
    {
     "name": "stdout",
     "output_type": "stream",
     "text": [
      "['astronomy is a natural science that studies celestial objects and the phenomena that occur in the cosmos.', 'it uses mathematics, physics, and chemistry in order to explain their origin and their overall evolution.', 'objects of interest include planets, moons, stars, nebulae, galaxies, meteoroids, asteroids, and comets.', 'relevant phenomena include supernova explosions, gamma ray bursts, quasars, blazars, pulsars, and cosmic microwave background radiation.', \"more generally, astronomy studies everything that originates beyond earth's atmosphere.\", 'cosmology is a branch of astronomy that studies the universe as a whole.']\n",
      "['astronomy', 'is', 'a', 'natural', 'science', 'that', 'studies', 'celestial', 'objects', 'and', 'the', 'phenomena', 'that', 'occur', 'in', 'the', 'cosmos', '.', 'it', 'uses', 'mathematics', ',', 'physics', ',', 'and', 'chemistry', 'in', 'order', 'to', 'explain', 'their', 'origin', 'and', 'their', 'overall', 'evolution', '.', 'objects', 'of', 'interest', 'include', 'planets', ',', 'moons', ',', 'stars', ',', 'nebulae', ',', 'galaxies', ',', 'meteoroids', ',', 'asteroids', ',', 'and', 'comets', '.', 'relevant', 'phenomena', 'include', 'supernova', 'explosions', ',', 'gamma', 'ray', 'bursts', ',', 'quasars', ',', 'blazars', ',', 'pulsars', ',', 'and', 'cosmic', 'microwave', 'background', 'radiation', '.', 'more', 'generally', ',', 'astronomy', 'studies', 'everything', 'that', 'originates', 'beyond', 'earth', \"'s\", 'atmosphere', '.', 'cosmology', 'is', 'a', 'branch', 'of', 'astronomy', 'that', 'studies', 'the', 'universe', 'as', 'a', 'whole', '.']\n"
     ]
    }
   ],
   "source": [
    "sentences=sent_tokenize(text)\n",
    "print(sentences)\n",
    "words=word_tokenize(text)\n",
    "print(words)\n"
   ]
  },
  {
   "cell_type": "code",
   "execution_count": 14,
   "id": "13025d10",
   "metadata": {},
   "outputs": [
    {
     "name": "stdout",
     "output_type": "stream",
     "text": [
      "astronomy is a natural science that studies celestial objects and the\n",
      "phenomena that occur in the cosmos it uses mathematics physics and\n",
      "chemistry in order to explain their origin and their overall evolution\n",
      "objects of interest include planets moons stars nebulae galaxies\n",
      "meteoroids asteroids and comets relevant phenomena include supernova\n",
      "explosions gamma ray bursts quasars blazars pulsars and cosmic\n",
      "microwave background radiation more generally astronomy studies\n",
      "everything that originates beyond earths atmosphere cosmology is a\n",
      "branch of astronomy that studies the universe as a whole\n"
     ]
    }
   ],
   "source": [
    "text = text.translate(str.maketrans(\"\", \"\", string.punctuation))\n",
    "text=textwrap.fill(text, width=70)\n",
    "print(text)"
   ]
  },
  {
   "cell_type": "code",
   "execution_count": 18,
   "id": "c639fc73",
   "metadata": {},
   "outputs": [
    {
     "name": "stdout",
     "output_type": "stream",
     "text": [
      "['astronomy', 'natural', 'science', 'studies', 'celestial', 'objects', 'phenomena', 'occur', 'cosmos', '.', 'uses', 'mathematics', ',', 'physics', ',', 'chemistry', 'order', 'explain', 'origin', 'overall', 'evolution', '.', 'objects', 'interest', 'include', 'planets', ',', 'moons', ',', 'stars', ',', 'nebulae', ',', 'galaxies', ',', 'meteoroids', ',', 'asteroids', ',', 'comets', '.', 'relevant', 'phenomena', 'include', 'supernova', 'explosions', ',', 'gamma', 'ray', 'bursts', ',', 'quasars', ',', 'blazars', ',', 'pulsars', ',', 'cosmic', 'microwave', 'background', 'radiation', '.', 'generally', ',', 'astronomy', 'studies', 'everything', 'originates', 'beyond', 'earth', \"'s\", 'atmosphere', '.', 'cosmology', 'branch', 'astronomy', 'studies', 'universe', 'whole', '.']\n"
     ]
    }
   ],
   "source": [
    "sw=set(stopwords.words(\"english\"))\n",
    "filtered_words=[word for word in words if word.lower() not in sw]\n",
    "print(filtered_words)"
   ]
  },
  {
   "cell_type": "code",
   "execution_count": 19,
   "id": "acce89d5",
   "metadata": {},
   "outputs": [
    {
     "name": "stdout",
     "output_type": "stream",
     "text": [
      "\n",
      "Word Frequency Distribution:\n",
      "astronomy: 3\n",
      "natural: 1\n",
      "science: 1\n",
      "studies: 3\n",
      "celestial: 1\n",
      "objects: 2\n",
      "phenomena: 2\n",
      "occur: 1\n",
      "cosmos: 1\n",
      ".: 6\n",
      "uses: 1\n",
      "mathematics: 1\n",
      ",: 15\n",
      "physics: 1\n",
      "chemistry: 1\n",
      "order: 1\n",
      "explain: 1\n",
      "origin: 1\n",
      "overall: 1\n",
      "evolution: 1\n",
      "interest: 1\n",
      "include: 2\n",
      "planets: 1\n",
      "moons: 1\n",
      "stars: 1\n",
      "nebulae: 1\n",
      "galaxies: 1\n",
      "meteoroids: 1\n",
      "asteroids: 1\n",
      "comets: 1\n",
      "relevant: 1\n",
      "supernova: 1\n",
      "explosions: 1\n",
      "gamma: 1\n",
      "ray: 1\n",
      "bursts: 1\n",
      "quasars: 1\n",
      "blazars: 1\n",
      "pulsars: 1\n",
      "cosmic: 1\n",
      "microwave: 1\n",
      "background: 1\n",
      "radiation: 1\n",
      "generally: 1\n",
      "everything: 1\n",
      "originates: 1\n",
      "beyond: 1\n",
      "earth: 1\n",
      "'s: 1\n",
      "atmosphere: 1\n",
      "cosmology: 1\n",
      "branch: 1\n",
      "universe: 1\n",
      "whole: 1\n"
     ]
    }
   ],
   "source": [
    "from collections import Counter\n",
    "word_freq = Counter(filtered_words)\n",
    "print(\"\\nWord Frequency Distribution:\")\n",
    "for word, freq in word_freq.items():\n",
    "    print(f\"{word}: {freq}\")\n"
   ]
  },
  {
   "cell_type": "code",
   "execution_count": 21,
   "id": "94c27d1d",
   "metadata": {},
   "outputs": [
    {
     "name": "stderr",
     "output_type": "stream",
     "text": [
      "[nltk_data] Downloading package wordnet to C:\\Users\\SARVPREET\n",
      "[nltk_data]     KAUR\\AppData\\Roaming\\nltk_data...\n",
      "[nltk_data]   Package wordnet is already up-to-date!\n"
     ]
    },
    {
     "data": {
      "text/plain": [
       "True"
      ]
     },
     "execution_count": 21,
     "metadata": {},
     "output_type": "execute_result"
    }
   ],
   "source": [
    "from nltk.stem import PorterStemmer, LancasterStemmer, WordNetLemmatizer\n",
    "from nltk.corpus import wordnet\n",
    "nltk.download('wordnet')"
   ]
  },
  {
   "cell_type": "code",
   "execution_count": null,
   "id": "a3c5f82c",
   "metadata": {},
   "outputs": [
    {
     "name": "stdout",
     "output_type": "stream",
     "text": [
      "Word            Porter          Lancaster       Lemma          \n",
      "astronomy       astronomi       astronom        astronomy      \n",
      "natural         natur           nat             natural        \n",
      "science         scienc          sci             science        \n",
      "studies         studi           study           study          \n",
      "celestial       celesti         celest          celestial      \n",
      "objects         object          object          object         \n",
      "phenomena       phenomena       phenomen        phenomenon     \n",
      "occur           occur           occ             occur          \n",
      "cosmos          cosmo           cosmo           cosmos         \n",
      ".               .               .               .              \n",
      "uses            use             us              us             \n",
      "mathematics     mathemat        mathem          mathematics    \n",
      ",               ,               ,               ,              \n",
      "physics         physic          phys            physic         \n",
      ",               ,               ,               ,              \n",
      "chemistry       chemistri       chem            chemistry      \n",
      "order           order           ord             order          \n",
      "explain         explain         explain         explain        \n",
      "origin          origin          origin          origin         \n",
      "overall         overal          overal          overall        \n",
      "evolution       evolut          evolv           evolution      \n",
      ".               .               .               .              \n",
      "objects         object          object          object         \n",
      "interest        interest        interest        interest       \n",
      "include         includ          includ          include        \n",
      "planets         planet          planet          planet         \n",
      ",               ,               ,               ,              \n",
      "moons           moon            moon            moon           \n",
      ",               ,               ,               ,              \n",
      "stars           star            star            star           \n",
      ",               ,               ,               ,              \n",
      "nebulae         nebula          nebula          nebula         \n",
      ",               ,               ,               ,              \n",
      "galaxies        galaxi          galaxy          galaxy         \n",
      ",               ,               ,               ,              \n",
      "meteoroids      meteoroid       meteoroid       meteoroid      \n",
      ",               ,               ,               ,              \n",
      "asteroids       asteroid        asteroid        asteroid       \n",
      ",               ,               ,               ,              \n",
      "comets          comet           comet           comet          \n",
      ".               .               .               .              \n",
      "relevant        relev           relev           relevant       \n",
      "phenomena       phenomena       phenomen        phenomenon     \n",
      "include         includ          includ          include        \n",
      "supernova       supernova       supernov        supernova      \n",
      "explosions      explos          explod          explosion      \n",
      ",               ,               ,               ,              \n",
      "gamma           gamma           gamm            gamma          \n",
      "ray             ray             ray             ray            \n",
      "bursts          burst           burst           burst          \n",
      ",               ,               ,               ,              \n",
      "quasars         quasar          quas            quasar         \n",
      ",               ,               ,               ,              \n",
      "blazars         blazar          blaz            blazars        \n",
      ",               ,               ,               ,              \n",
      "pulsars         pulsar          puls            pulsar         \n",
      ",               ,               ,               ,              \n",
      "cosmic          cosmic          cosm            cosmic         \n",
      "microwave       microwav        microwav        microwave      \n",
      "background      background      background      background     \n",
      "radiation       radiat          rady            radiation      \n",
      ".               .               .               .              \n",
      "generally       gener           gen             generally      \n",
      ",               ,               ,               ,              \n",
      "astronomy       astronomi       astronom        astronomy      \n",
      "studies         studi           study           study          \n",
      "everything      everyth         everyth         everything     \n",
      "originates      origin          origin          originates     \n",
      "beyond          beyond          beyond          beyond         \n",
      "earth           earth           ear             earth          \n",
      "'s              's              's              's             \n",
      "atmosphere      atmospher       atmosph         atmosphere     \n",
      ".               .               .               .              \n",
      "cosmology       cosmolog        cosmolog        cosmology      \n",
      "branch          branch          branch          branch         \n",
      "astronomy       astronomi       astronom        astronomy      \n",
      "studies         studi           study           study          \n",
      "universe        univers         univers         universe       \n",
      "whole           whole           whol            whole          \n",
      ".               .               .               .              \n"
     ]
    }
   ],
   "source": [
    "porter=PorterStemmer()\n",
    "lancaster=LancasterStemmer()\n",
    "lemmatizer=WordNetLemmatizer()\n",
    "print(f\"{'Word':<15} {'Porter':<15} {'Lancaster':<15} {'Lemma':<15}\")\n",
    "for word in filtered_words:\n",
    "    porter_stem = porter.stem(word)\n",
    "    lancaster_stem = lancaster.stem(word)\n",
    "    lemma = lemmatizer.lemmatize(word)\n",
    "    print(f\"{word:<15} {porter_stem:<15} {lancaster_stem:<15} {lemma:<15}\")"
   ]
  },
  {
   "cell_type": "code",
   "execution_count": null,
   "id": "edd2af1a",
   "metadata": {},
   "outputs": [
    {
     "name": "stdout",
     "output_type": "stream",
     "text": [
      "\n",
      "Words with more than 5 letters:\n",
      "['Staying', 'positive']\n",
      "['12', '2025']\n",
      "['Hi', 'Today', 'April', 'It', 'Staying']\n",
      "['Hi', 'Today', 'is', 'April', 'It', 'was', 'a', 'good', 'day', 'Staying', 'happy', 'and', 'positive']\n",
      "['is', 'April', 'It', 'a', 'and']\n"
     ]
    }
   ],
   "source": [
    "import re\n",
    "newtext=\"\"\"Hi. Today is 12 April, 2025. It was a good day. Staying happy and positive.\"\"\"\n",
    "more5=re.findall(r'\\b[a-zA-Z]{6,}\\b', newtext)\n",
    "print(\"\\nWords with more than 5 letters:\")\n",
    "print(more5)\n",
    "\n",
    "regex=r'\\d+'\n",
    "match=re.findall(regex, newtext)\n",
    "print(match)\n",
    "\n",
    "capital=re.findall(r'\\b[A-Z][a-z]*\\b', newtext)\n",
    "print(capital)\n",
    "\n",
    "simpletext=re.sub(r'[^a-zA-Z\\s]', '', newtext) \n",
    "alpha_words=simpletext.split()\n",
    "print(alpha_words)\n",
    "\n",
    "vowel_words=[word for word in alpha_words if word[0].lower() in 'aeiou']\n",
    "print(vowel_words)"
   ]
  },
  {
   "cell_type": "code",
   "execution_count": null,
   "id": "0b202a33",
   "metadata": {},
   "outputs": [
    {
     "name": "stdout",
     "output_type": "stream",
     "text": [
      "Cleaned Text:\n",
      " Contact me at <EMAIL> or visit <URL>\n",
      "My number is <PHONE>. This is a state-of-the-art product, isn't it?\n",
      "It costs 3.14 dollars.\n",
      "\n",
      "Tokens:\n",
      "['Contact', 'me', 'at', 'EMAIL', 'or', 'visit', 'URL', 'My', 'number', 'is', 'PHONE', 'This', 'is', 'a', 'state-of-the-art', 'product', \"isn't\", 'it', 'It', 'costs', '3.14', 'dollars']\n"
     ]
    }
   ],
   "source": [
    "\n",
    "txt = \"\"\"Contact me at john.doe@example.com or visit https://example.com.\n",
    "My number is +91 9876543210. This is a state-of-the-art product, isn't it?\n",
    "It costs 3.14 dollars.\"\"\"\n",
    "txt = re.sub(r'\\b[\\w\\.-]+@[\\w\\.-]+\\.\\w+\\b', '<EMAIL>', txt)\n",
    "txt = re.sub(r'https?://\\S+|www\\.\\S+', '<URL>', txt)\n",
    "txt = re.sub(r'(\\+?\\d{1,3}[-\\s]?)?\\d{3}[-\\s]?\\d{3}[-\\s]?\\d{4}', '<PHONE>', txt)\n",
    "print(\"Cleaned Text:\\n\", txt)\n",
    "\n",
    "def custom_tokenizer(txt):\n",
    "    pattern = r\"\\b(?:\\d+\\.\\d+|\\w+(?:[-']\\w+)*|<EMAIL>|<URL>|<PHONE>|\\d+)\\b\"\n",
    "    tokens = re.findall(pattern, txt)\n",
    "    return tokens\n",
    "\n",
    "tokens = custom_tokenizer(txt)\n",
    "print(\"\\nTokens:\")\n",
    "print(tokens)"
   ]
  }
 ],
 "metadata": {
  "kernelspec": {
   "display_name": "base",
   "language": "python",
   "name": "python3"
  },
  "language_info": {
   "codemirror_mode": {
    "name": "ipython",
    "version": 3
   },
   "file_extension": ".py",
   "mimetype": "text/x-python",
   "name": "python",
   "nbconvert_exporter": "python",
   "pygments_lexer": "ipython3",
   "version": "3.12.7"
  }
 },
 "nbformat": 4,
 "nbformat_minor": 5
}
