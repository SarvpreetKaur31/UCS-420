{
 "cells": [
  {
   "cell_type": "markdown",
   "metadata": {},
   "source": [
    "ASSIGNMENT-3\n"
   ]
  },
  {
   "cell_type": "code",
   "execution_count": 2,
   "metadata": {},
   "outputs": [
    {
     "name": "stdout",
     "output_type": "stream",
     "text": [
      "   TID Refund Marital Status Taxable Income Cheat\n",
      "0    1    Yes         Single           125K    No\n",
      "1    2     No        Married           100K    No\n",
      "2    3     No         Single            70K    No\n",
      "3    4    Yes        Married           120K    No\n",
      "4    5     No       Divorced            95K   Yes\n",
      "5    6     No        Married            60K    No\n",
      "6    7    Yes       Divorced           220K    No\n",
      "7    8     No         Single            85K   Yes\n",
      "8    9     No        Married            75K    No\n",
      "9   10     No         Single            90K   Yes\n",
      "\n",
      "\n",
      "The data of row 0 is:\n",
      " TID                    1\n",
      "Refund               Yes\n",
      "Marital Status    Single\n",
      "Taxable Income      125K\n",
      "Cheat                 No\n",
      "Name: 0, dtype: object \n",
      "\n",
      "The data of row 4 is:\n",
      " TID                      5\n",
      "Refund                  No\n",
      "Marital Status    Divorced\n",
      "Taxable Income         95K\n",
      "Cheat                  Yes\n",
      "Name: 4, dtype: object \n",
      "\n",
      "The data of row 7 is:\n",
      " TID                    8\n",
      "Refund                No\n",
      "Marital Status    Single\n",
      "Taxable Income       85K\n",
      "Cheat                Yes\n",
      "Name: 7, dtype: object \n",
      "\n",
      "The data of row 8 is:\n",
      " TID                     9\n",
      "Refund                 No\n",
      "Marital Status    Married\n",
      "Taxable Income        75K\n",
      "Cheat                  No\n",
      "Name: 8, dtype: object\n",
      "The data of rows from index 3 to 7is:\n",
      "    TID Refund Marital Status Taxable Income Cheat\n",
      "3    4    Yes        Married           120K    No\n",
      "4    5     No       Divorced            95K   Yes\n",
      "5    6     No        Married            60K    No\n",
      "6    7    Yes       Divorced           220K    No\n",
      "7    8     No         Single            85K   Yes\n",
      "The data of rows from index 4 to 8 and having columns from index 2 to 4 is:\n",
      "   Marital Status Taxable Income Cheat\n",
      "4       Divorced            95K   Yes\n",
      "5        Married            60K    No\n",
      "6       Divorced           220K    No\n",
      "7         Single            85K   Yes\n",
      "8        Married            75K    No\n",
      "The data of all rows with columns having index 1 to 3 is:\n",
      "   Refund Marital Status Taxable Income\n",
      "0    Yes         Single           125K\n",
      "1     No        Married           100K\n",
      "2     No         Single            70K\n",
      "3    Yes        Married           120K\n",
      "4     No       Divorced            95K\n",
      "5     No        Married            60K\n",
      "6    Yes       Divorced           220K\n",
      "7     No         Single            85K\n",
      "8     No        Married            75K\n",
      "9     No         Single            90K\n"
     ]
    }
   ],
   "source": [
    "import pandas as pd\n",
    "data={\n",
    "    'TID':[1,2,3,4,5,6,7,8,9,10],\n",
    "    'Refund':['Yes','No','No','Yes','No','No','Yes','No','No','No'],\n",
    "    'Marital Status':['Single','Married','Single','Married','Divorced','Married','Divorced','Single','Married','Single'],\n",
    "    'Taxable Income':['125K','100K','70K','120K','95K','60K','220K','85K','75K','90K'],\n",
    "    'Cheat':['No','No','No','No','Yes','No','No','Yes','No','Yes']\n",
    "}\n",
    "df = pd.DataFrame(data)\n",
    "print(df)\n",
    "print('\\n')\n",
    "print(\"The data of row 0 is:\\n\",df.loc[0],'\\n')\n",
    "print(\"The data of row 4 is:\\n\",df.loc[4],'\\n')\n",
    "print(\"The data of row 7 is:\\n\",df.loc[7],'\\n')\n",
    "print(\"The data of row 8 is:\\n\",df.loc[8])\n",
    "print(\"The data of rows from index 3 to 7is:\\n\",df.iloc[3:8])\n",
    "print(\"The data of rows from index 4 to 8 and having columns from index 2 to 4 is:\\n\",df.iloc[4:9,2:5])\n",
    "print(\"The data of all rows with columns having index 1 to 3 is:\\n\",df.iloc[:,1:4])\n"
   ]
  },
  {
   "cell_type": "code",
   "execution_count": 26,
   "metadata": {},
   "outputs": [
    {
     "name": "stdout",
     "output_type": "stream",
     "text": [
      "The first five rows of data are:\n",
      "    sepal_length  sepal_width  petal_length  petal_width species\n",
      "0           5.1          3.5           1.4          0.2  setosa\n",
      "1           4.9          3.0           1.4          0.2  setosa\n",
      "2           4.7          3.2           1.3          0.2  setosa\n",
      "3           4.6          3.1           1.5          0.2  setosa\n",
      "4           5.0          3.6           1.4          0.2  setosa\n",
      "The data after deleting 4th row and 3rd column\n",
      "     sepal_length  sepal_width  petal_width    species\n",
      "0             5.1          3.5          0.2     setosa\n",
      "1             4.9          3.0          0.2     setosa\n",
      "2             4.7          3.2          0.2     setosa\n",
      "4             5.0          3.6          0.2     setosa\n",
      "5             5.4          3.9          0.4     setosa\n",
      "..            ...          ...          ...        ...\n",
      "145           6.7          3.0          2.3  virginica\n",
      "146           6.3          2.5          1.9  virginica\n",
      "147           6.5          3.0          2.0  virginica\n",
      "148           6.2          3.4          2.3  virginica\n",
      "149           5.9          3.0          1.8  virginica\n",
      "\n",
      "[149 rows x 4 columns]\n"
     ]
    }
   ],
   "source": [
    "import pandas as pd\n",
    "df=pd.read_csv(r'C:\\Users\\SARVPREET KAUR\\Downloads\\archive.zip')\n",
    "print(\"The first five rows of data are:\\n\",df.head())\n",
    "print(\"The data after deleting 4th row and 3rd column\")\n",
    "#Deleting row 4\n",
    "df.drop(3,axis=0,inplace=True)\n",
    "#Deleting column 3\n",
    "df.drop(df.columns[2],axis=1,inplace=True)\n",
    "print(df)\n",
    "\n"
   ]
  },
  {
   "cell_type": "code",
   "execution_count": 73,
   "metadata": {},
   "outputs": [
    {
     "name": "stdout",
     "output_type": "stream",
     "text": [
      "Dataset is:\n",
      "   Employee_ID     Name Department  Age  Salary  Years_of_Experience  \\\n",
      "0          101    Alice         HR   29   50000                    4   \n",
      "1          102      Bob         IT   34   70000                    8   \n",
      "2          103  Charlie         IT   41   65000                   10   \n",
      "3          104    Diana  Marketing   28   55000                    3   \n",
      "4          105   Edward      Sales   38   60000                   12   \n",
      "\n",
      "  Joining_Date  Gender  Bonus  Rating  \n",
      "0   2020-03-15  Female   5000     4.5  \n",
      "1   2017-07-19    Male   7000     4.0  \n",
      "2   2013-06-01    Male   6000     3.8  \n",
      "3   2021-02-10  Female   4500     4.7  \n",
      "4   2010-11-25    Male   5000     3.5  \n"
     ]
    }
   ],
   "source": [
    "import pandas as pd \n",
    "Data={\n",
    "    'Employee_ID':[101,102,103,104,105],\n",
    "    'Name':[\"Alice\",\"Bob\",\"Charlie\",\"Diana\",\"Edward\"],\n",
    "    'Department':[\"HR\",\"IT\",\"IT\",\"Marketing\",\"Sales\"],\n",
    "    'Age':[29,34,41,28,38],\n",
    "    'Salary':[50000,70000,65000,55000,60000],\n",
    "    'Years_of_Experience':[4,8,10,3,12],\n",
    "    'Joining_Date':[\"2020-03-15\",\"2017-07-19\",\"2013-06-01\",\"2021-02-10\",\"2010-11-25\"],\n",
    "    'Gender':[\"Female\",\"Male\",\"Male\",\"Female\",\"Male\"],\n",
    "    'Bonus':[5000,7000,6000,4500,5000],\n",
    "    'Rating':[4.5,4.0,3.8,4.7,3.5]\n",
    "}\n",
    "df=pd.DataFrame(Data)\n",
    "df.to_csv(\"Employees.csv\",index=False)\n",
    " \n",
    "df=pd.read_csv(\"Employees.csv\")\n",
    "print(\"Dataset is:\")\n",
    "print(df)\n",
    "\n"
   ]
  },
  {
   "cell_type": "code",
   "execution_count": 74,
   "metadata": {},
   "outputs": [
    {
     "name": "stdout",
     "output_type": "stream",
     "text": [
      "Shape of dataframe:\n",
      "(5, 10)\n"
     ]
    }
   ],
   "source": [
    "print(\"Shape of dataframe:\")\n",
    "print(df.shape)"
   ]
  },
  {
   "cell_type": "code",
   "execution_count": 75,
   "metadata": {},
   "outputs": [
    {
     "name": "stdout",
     "output_type": "stream",
     "text": [
      "Summary of dataframe:\n",
      "<class 'pandas.core.frame.DataFrame'>\n",
      "RangeIndex: 5 entries, 0 to 4\n",
      "Data columns (total 10 columns):\n",
      " #   Column               Non-Null Count  Dtype  \n",
      "---  ------               --------------  -----  \n",
      " 0   Employee_ID          5 non-null      int64  \n",
      " 1   Name                 5 non-null      object \n",
      " 2   Department           5 non-null      object \n",
      " 3   Age                  5 non-null      int64  \n",
      " 4   Salary               5 non-null      int64  \n",
      " 5   Years_of_Experience  5 non-null      int64  \n",
      " 6   Joining_Date         5 non-null      object \n",
      " 7   Gender               5 non-null      object \n",
      " 8   Bonus                5 non-null      int64  \n",
      " 9   Rating               5 non-null      float64\n",
      "dtypes: float64(1), int64(5), object(4)\n",
      "memory usage: 532.0+ bytes\n",
      "None\n"
     ]
    }
   ],
   "source": [
    "print(\"Summary of dataframe:\")\n",
    "print(df.info())"
   ]
  },
  {
   "cell_type": "code",
   "execution_count": 76,
   "metadata": {},
   "outputs": [
    {
     "name": "stdout",
     "output_type": "stream",
     "text": [
      "Descriptive Statistics:\n",
      "       Employee_ID        Age       Salary  Years_of_Experience   Bonus  \\\n",
      "count     5.000000   5.000000      5.00000             5.000000     5.0   \n",
      "mean    103.000000  34.000000  60000.00000             7.400000  5500.0   \n",
      "std       1.581139   5.612486   7905.69415             3.847077  1000.0   \n",
      "min     101.000000  28.000000  50000.00000             3.000000  4500.0   \n",
      "25%     102.000000  29.000000  55000.00000             4.000000  5000.0   \n",
      "50%     103.000000  34.000000  60000.00000             8.000000  5000.0   \n",
      "75%     104.000000  38.000000  65000.00000            10.000000  6000.0   \n",
      "max     105.000000  41.000000  70000.00000            12.000000  7000.0   \n",
      "\n",
      "         Rating  \n",
      "count  5.000000  \n",
      "mean   4.100000  \n",
      "std    0.494975  \n",
      "min    3.500000  \n",
      "25%    3.800000  \n",
      "50%    4.000000  \n",
      "75%    4.500000  \n",
      "max    4.700000  \n"
     ]
    }
   ],
   "source": [
    "print(\"Descriptive Statistics:\")\n",
    "print(df.describe())"
   ]
  },
  {
   "cell_type": "code",
   "execution_count": 77,
   "metadata": {},
   "outputs": [
    {
     "name": "stdout",
     "output_type": "stream",
     "text": [
      "First five rows of dataset\n",
      "   Employee_ID     Name Department  Age  Salary  Years_of_Experience  \\\n",
      "0          101    Alice         HR   29   50000                    4   \n",
      "1          102      Bob         IT   34   70000                    8   \n",
      "2          103  Charlie         IT   41   65000                   10   \n",
      "3          104    Diana  Marketing   28   55000                    3   \n",
      "4          105   Edward      Sales   38   60000                   12   \n",
      "\n",
      "  Joining_Date  Gender  Bonus  Rating  \n",
      "0   2020-03-15  Female   5000     4.5  \n",
      "1   2017-07-19    Male   7000     4.0  \n",
      "2   2013-06-01    Male   6000     3.8  \n",
      "3   2021-02-10  Female   4500     4.7  \n",
      "4   2010-11-25    Male   5000     3.5  \n",
      "Last three rows of dataset\n",
      "   Employee_ID     Name Department  Age  Salary  Years_of_Experience  \\\n",
      "2          103  Charlie         IT   41   65000                   10   \n",
      "3          104    Diana  Marketing   28   55000                    3   \n",
      "4          105   Edward      Sales   38   60000                   12   \n",
      "\n",
      "  Joining_Date  Gender  Bonus  Rating  \n",
      "2   2013-06-01    Male   6000     3.8  \n",
      "3   2021-02-10  Female   4500     4.7  \n",
      "4   2010-11-25    Male   5000     3.5  \n"
     ]
    }
   ],
   "source": [
    "print(\"First five rows of dataset\")\n",
    "print(df.head())\n",
    "print(\"Last three rows of dataset\")\n",
    "print(df.tail(3))"
   ]
  },
  {
   "cell_type": "code",
   "execution_count": 78,
   "metadata": {},
   "outputs": [
    {
     "name": "stdout",
     "output_type": "stream",
     "text": [
      "Average salary of employees: 60000.0\n",
      "Total bonus paid to all employees: 27500\n",
      "The youngest employee's age is: 28\n",
      "The highest performance rating is: 4.7\n"
     ]
    }
   ],
   "source": [
    "avgsal=df[\"Salary\"].mean()\n",
    "print(\"Average salary of employees:\",avgsal)\n",
    "Total_bonus=df[\"Bonus\"].sum()\n",
    "print(\"Total bonus paid to all employees:\",Total_bonus)\n",
    "print(\"The youngest employee's age is:\",df[\"Age\"].min())\n",
    "print(\"The highest performance rating is:\",df[\"Rating\"].max())\n"
   ]
  },
  {
   "cell_type": "code",
   "execution_count": 89,
   "metadata": {},
   "outputs": [
    {
     "name": "stdout",
     "output_type": "stream",
     "text": [
      "Dataframe according to salary sorted in descending order is:\n",
      "   Employee_ID     Name Department  Age  Salary  Years_of_Experience  \\\n",
      "1          102      Bob         IT   34   70000                    8   \n",
      "2          103  Charlie         IT   41   65000                   10   \n",
      "4          105   Edward      Sales   38   60000                   12   \n",
      "3          104    Diana  Marketing   28   55000                    3   \n",
      "0          101    Alice         HR   29   50000                    4   \n",
      "\n",
      "  Joining_Date  Gender  Bonus  Rating  \n",
      "1   2017-07-19    Male   7000     4.0  \n",
      "2   2013-06-01    Male   6000     3.8  \n",
      "4   2010-11-25    Male   5000     3.5  \n",
      "3   2021-02-10  Female   4500     4.7  \n",
      "0   2020-03-15  Female   5000     4.5  \n"
     ]
    }
   ],
   "source": [
    "sort_desc=df.sort_values(by=\"Salary\",ascending=False)\n",
    "print(\"Dataframe according to salary sorted in descending order is:\")\n",
    "print(sort_desc)"
   ]
  },
  {
   "cell_type": "code",
   "execution_count": 92,
   "metadata": {},
   "outputs": [
    {
     "name": "stdout",
     "output_type": "stream",
     "text": [
      "   Employee_ID     Name Department  Age  Salary  Years_of_Experience  \\\n",
      "0          101    Alice         HR   29   50000                    4   \n",
      "1          102      Bob         IT   34   70000                    8   \n",
      "2          103  Charlie         IT   41   65000                   10   \n",
      "3          104    Diana  Marketing   28   55000                    3   \n",
      "4          105   Edward      Sales   38   60000                   12   \n",
      "\n",
      "  Joining_Date  Gender  Bonus  Rating Performance  \n",
      "0   2020-03-15  Female   5000     4.5   Excellent  \n",
      "1   2017-07-19    Male   7000     4.0        Good  \n",
      "2   2013-06-01    Male   6000     3.8     Average  \n",
      "3   2021-02-10  Female   4500     4.7   Excellent  \n",
      "4   2010-11-25    Male   5000     3.5     Average  \n"
     ]
    }
   ],
   "source": [
    "df[\"Performance\"]=[\"Excellent\"if rating>=4.5 else \"Good\" if rating>=4.0 else \"Average\" for rating in df[\"Rating\"]]\n",
    "print(df)"
   ]
  },
  {
   "cell_type": "code",
   "execution_count": 93,
   "metadata": {},
   "outputs": [
    {
     "name": "stdout",
     "output_type": "stream",
     "text": [
      "The missing values in DataFrame:\n",
      "   Employee_ID   Name  Department    Age  Salary  Years_of_Experience  \\\n",
      "0        False  False       False  False   False                False   \n",
      "1        False  False       False  False   False                False   \n",
      "2        False  False       False  False   False                False   \n",
      "3        False  False       False  False   False                False   \n",
      "4        False  False       False  False   False                False   \n",
      "\n",
      "   Joining_Date  Gender  Bonus  Rating  Performance  \n",
      "0         False   False  False   False        False  \n",
      "1         False   False  False   False        False  \n",
      "2         False   False  False   False        False  \n",
      "3         False   False  False   False        False  \n",
      "4         False   False  False   False        False  \n"
     ]
    }
   ],
   "source": [
    "print(\"The missing values in DataFrame:\")\n",
    "print(df.isnull())"
   ]
  },
  {
   "cell_type": "code",
   "execution_count": 98,
   "metadata": {},
   "outputs": [
    {
     "name": "stdout",
     "output_type": "stream",
     "text": [
      "    ID     Name Department  Age  Salary  Years_of_Experience Joining_Date  \\\n",
      "0  101    Alice         HR   29   50000                    4   2020-03-15   \n",
      "1  102      Bob         IT   34   70000                    8   2017-07-19   \n",
      "2  103  Charlie         IT   41   65000                   10   2013-06-01   \n",
      "3  104    Diana  Marketing   28   55000                    3   2021-02-10   \n",
      "4  105   Edward      Sales   38   60000                   12   2010-11-25   \n",
      "\n",
      "   Gender  Bonus  Rating Performance  \n",
      "0  Female   5000     4.5   Excellent  \n",
      "1    Male   7000     4.0        Good  \n",
      "2    Male   6000     3.8     Average  \n",
      "3  Female   4500     4.7   Excellent  \n",
      "4    Male   5000     3.5     Average  \n"
     ]
    }
   ],
   "source": [
    "df.rename(columns={\"Employee_ID\":\"ID\"},inplace=True)\n",
    "print(df)"
   ]
  },
  {
   "cell_type": "code",
   "execution_count": 100,
   "metadata": {},
   "outputs": [
    {
     "name": "stdout",
     "output_type": "stream",
     "text": [
      "Employees with more than 5 years of experience:\n"
     ]
    },
    {
     "data": {
      "text/html": [
       "<div>\n",
       "<style scoped>\n",
       "    .dataframe tbody tr th:only-of-type {\n",
       "        vertical-align: middle;\n",
       "    }\n",
       "\n",
       "    .dataframe tbody tr th {\n",
       "        vertical-align: top;\n",
       "    }\n",
       "\n",
       "    .dataframe thead th {\n",
       "        text-align: right;\n",
       "    }\n",
       "</style>\n",
       "<table border=\"1\" class=\"dataframe\">\n",
       "  <thead>\n",
       "    <tr style=\"text-align: right;\">\n",
       "      <th></th>\n",
       "      <th>ID</th>\n",
       "      <th>Name</th>\n",
       "      <th>Department</th>\n",
       "      <th>Age</th>\n",
       "      <th>Salary</th>\n",
       "      <th>Years_of_Experience</th>\n",
       "      <th>Joining_Date</th>\n",
       "      <th>Gender</th>\n",
       "      <th>Bonus</th>\n",
       "      <th>Rating</th>\n",
       "      <th>Performance</th>\n",
       "    </tr>\n",
       "  </thead>\n",
       "  <tbody>\n",
       "    <tr>\n",
       "      <th>1</th>\n",
       "      <td>102</td>\n",
       "      <td>Bob</td>\n",
       "      <td>IT</td>\n",
       "      <td>34</td>\n",
       "      <td>70000</td>\n",
       "      <td>8</td>\n",
       "      <td>2017-07-19</td>\n",
       "      <td>Male</td>\n",
       "      <td>7000</td>\n",
       "      <td>4.0</td>\n",
       "      <td>Good</td>\n",
       "    </tr>\n",
       "    <tr>\n",
       "      <th>2</th>\n",
       "      <td>103</td>\n",
       "      <td>Charlie</td>\n",
       "      <td>IT</td>\n",
       "      <td>41</td>\n",
       "      <td>65000</td>\n",
       "      <td>10</td>\n",
       "      <td>2013-06-01</td>\n",
       "      <td>Male</td>\n",
       "      <td>6000</td>\n",
       "      <td>3.8</td>\n",
       "      <td>Average</td>\n",
       "    </tr>\n",
       "    <tr>\n",
       "      <th>4</th>\n",
       "      <td>105</td>\n",
       "      <td>Edward</td>\n",
       "      <td>Sales</td>\n",
       "      <td>38</td>\n",
       "      <td>60000</td>\n",
       "      <td>12</td>\n",
       "      <td>2010-11-25</td>\n",
       "      <td>Male</td>\n",
       "      <td>5000</td>\n",
       "      <td>3.5</td>\n",
       "      <td>Average</td>\n",
       "    </tr>\n",
       "  </tbody>\n",
       "</table>\n",
       "</div>"
      ],
      "text/plain": [
       "    ID     Name Department  Age  Salary  Years_of_Experience Joining_Date  \\\n",
       "1  102      Bob         IT   34   70000                    8   2017-07-19   \n",
       "2  103  Charlie         IT   41   65000                   10   2013-06-01   \n",
       "4  105   Edward      Sales   38   60000                   12   2010-11-25   \n",
       "\n",
       "  Gender  Bonus  Rating Performance  \n",
       "1   Male   7000     4.0        Good  \n",
       "2   Male   6000     3.8     Average  \n",
       "4   Male   5000     3.5     Average  "
      ]
     },
     "execution_count": 100,
     "metadata": {},
     "output_type": "execute_result"
    }
   ],
   "source": [
    "print(\"Employees with more than 5 years of experience:\")\n",
    "df[df[\"Years_of_Experience\"]>5]"
   ]
  },
  {
   "cell_type": "code",
   "execution_count": 101,
   "metadata": {},
   "outputs": [
    {
     "name": "stdout",
     "output_type": "stream",
     "text": [
      "The employees who belong to IT departmnt:\n"
     ]
    },
    {
     "data": {
      "text/html": [
       "<div>\n",
       "<style scoped>\n",
       "    .dataframe tbody tr th:only-of-type {\n",
       "        vertical-align: middle;\n",
       "    }\n",
       "\n",
       "    .dataframe tbody tr th {\n",
       "        vertical-align: top;\n",
       "    }\n",
       "\n",
       "    .dataframe thead th {\n",
       "        text-align: right;\n",
       "    }\n",
       "</style>\n",
       "<table border=\"1\" class=\"dataframe\">\n",
       "  <thead>\n",
       "    <tr style=\"text-align: right;\">\n",
       "      <th></th>\n",
       "      <th>ID</th>\n",
       "      <th>Name</th>\n",
       "      <th>Department</th>\n",
       "      <th>Age</th>\n",
       "      <th>Salary</th>\n",
       "      <th>Years_of_Experience</th>\n",
       "      <th>Joining_Date</th>\n",
       "      <th>Gender</th>\n",
       "      <th>Bonus</th>\n",
       "      <th>Rating</th>\n",
       "      <th>Performance</th>\n",
       "    </tr>\n",
       "  </thead>\n",
       "  <tbody>\n",
       "    <tr>\n",
       "      <th>1</th>\n",
       "      <td>102</td>\n",
       "      <td>Bob</td>\n",
       "      <td>IT</td>\n",
       "      <td>34</td>\n",
       "      <td>70000</td>\n",
       "      <td>8</td>\n",
       "      <td>2017-07-19</td>\n",
       "      <td>Male</td>\n",
       "      <td>7000</td>\n",
       "      <td>4.0</td>\n",
       "      <td>Good</td>\n",
       "    </tr>\n",
       "    <tr>\n",
       "      <th>2</th>\n",
       "      <td>103</td>\n",
       "      <td>Charlie</td>\n",
       "      <td>IT</td>\n",
       "      <td>41</td>\n",
       "      <td>65000</td>\n",
       "      <td>10</td>\n",
       "      <td>2013-06-01</td>\n",
       "      <td>Male</td>\n",
       "      <td>6000</td>\n",
       "      <td>3.8</td>\n",
       "      <td>Average</td>\n",
       "    </tr>\n",
       "  </tbody>\n",
       "</table>\n",
       "</div>"
      ],
      "text/plain": [
       "    ID     Name Department  Age  Salary  Years_of_Experience Joining_Date  \\\n",
       "1  102      Bob         IT   34   70000                    8   2017-07-19   \n",
       "2  103  Charlie         IT   41   65000                   10   2013-06-01   \n",
       "\n",
       "  Gender  Bonus  Rating Performance  \n",
       "1   Male   7000     4.0        Good  \n",
       "2   Male   6000     3.8     Average  "
      ]
     },
     "execution_count": 101,
     "metadata": {},
     "output_type": "execute_result"
    }
   ],
   "source": [
    "print(\"The employees who belong to IT departmnt:\")\n",
    "df[df[\"Department\"]==\"IT\"]"
   ]
  },
  {
   "cell_type": "code",
   "execution_count": 103,
   "metadata": {},
   "outputs": [
    {
     "name": "stdout",
     "output_type": "stream",
     "text": [
      "    ID     Name Department  Age  Salary  Years_of_Experience Joining_Date  \\\n",
      "0  101    Alice         HR   29   50000                    4   2020-03-15   \n",
      "1  102      Bob         IT   34   70000                    8   2017-07-19   \n",
      "2  103  Charlie         IT   41   65000                   10   2013-06-01   \n",
      "3  104    Diana  Marketing   28   55000                    3   2021-02-10   \n",
      "4  105   Edward      Sales   38   60000                   12   2010-11-25   \n",
      "\n",
      "   Gender  Bonus  Rating Performance     Tax  \n",
      "0  Female   5000     4.5   Excellent  5000.0  \n",
      "1    Male   7000     4.0        Good  7000.0  \n",
      "2    Male   6000     3.8     Average  6500.0  \n",
      "3  Female   4500     4.7   Excellent  5500.0  \n",
      "4    Male   5000     3.5     Average  6000.0  \n"
     ]
    }
   ],
   "source": [
    "df[\"Tax\"]=df[\"Salary\"]*0.10\n",
    "print(df)"
   ]
  },
  {
   "cell_type": "code",
   "execution_count": 7,
   "metadata": {},
   "outputs": [
    {
     "name": "stdout",
     "output_type": "stream",
     "text": [
      "Dataset is:\n",
      "    ID     Name Department  Age  Salary  Years_of_Experience Joining_Date  \\\n",
      "0  101    Alice         HR   29   50000                    4   2020-03-15   \n",
      "1  102      Bob         IT   34   70000                    8   2017-07-19   \n",
      "2  103  Charlie         IT   41   65000                   10   2013-06-01   \n",
      "3  104    Diana  Marketing   28   55000                    3   2021-02-10   \n",
      "4  105   Edward      Sales   38   60000                   12   2010-11-25   \n",
      "\n",
      "   Gender  Bonus  Rating Performance     Tax  \n",
      "0  Female   5000     4.5   Excellent  5000.0  \n",
      "1    Male   7000     4.0        Good  7000.0  \n",
      "2    Male   6000     3.8     Average  6500.0  \n",
      "3  Female   4500     4.7   Excellent  5500.0  \n",
      "4    Male   5000     3.5     Average  6000.0  \n",
      "Data saved to modified_employee.csv successfully\n"
     ]
    }
   ],
   "source": [
    "df.to_csv(\"modified_employee.csv\",index=False)\n",
    "df=pd.read_csv(\"modified_employee.csv\")\n",
    "print(\"Dataset is:\")\n",
    "print(df)\n",
    "print(\"Data saved to modified_employee.csv successfully\")\n"
   ]
  }
 ],
 "metadata": {
  "kernelspec": {
   "display_name": "base",
   "language": "python",
   "name": "python3"
  },
  "language_info": {
   "codemirror_mode": {
    "name": "ipython",
    "version": 3
   },
   "file_extension": ".py",
   "mimetype": "text/x-python",
   "name": "python",
   "nbconvert_exporter": "python",
   "pygments_lexer": "ipython3",
   "version": "3.12.7"
  }
 },
 "nbformat": 4,
 "nbformat_minor": 2
}
