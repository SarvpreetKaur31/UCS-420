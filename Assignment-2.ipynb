{
 "cells": [
  {
   "cell_type": "markdown",
   "metadata": {},
   "source": [
    "Assignment-2"
   ]
  },
  {
   "cell_type": "code",
   "execution_count": 14,
   "metadata": {},
   "outputs": [
    {
     "name": "stdout",
     "output_type": "stream",
     "text": [
      "Original List is: [10, 20, 30, 40, 50, 60, 70, 80, 90]\n",
      "After adding 200 and 300,the List is: [10, 20, 30, 40, 50, 60, 70, 80, 90, 200, 300]\n",
      "After removing 10 and 30,the List is: [20, 40, 50, 60, 70, 80, 90, 200, 300]\n",
      "The sorted list in ascending order is: [20, 40, 50, 60, 70, 80, 90, 200, 300]\n",
      "The sorted list in descending order is: [300, 200, 90, 80, 70, 60, 50, 40, 20]\n"
     ]
    }
   ],
   "source": [
    "L=[10,20,30,40,50,60,70,80,90]\n",
    "print(\"Original List is:\",L)\n",
    "L.append(200)\n",
    "L.append(300)\n",
    "print(\"After adding 200 and 300,the List is:\",L)\n",
    "L.remove(10)\n",
    "L.remove(30)\n",
    "print(\"After removing 10 and 30,the List is:\",L)\n",
    "L.sort()\n",
    "print(\"The sorted list in ascending order is:\",L)\n",
    "L.sort(reverse=True)\n",
    "print(\"The sorted list in descending order is:\",L)\n"
   ]
  },
  {
   "cell_type": "code",
   "execution_count": 84,
   "metadata": {},
   "outputs": [
    {
     "name": "stdout",
     "output_type": "stream",
     "text": [
      "The original tuple is: (45, 89.5, 76, 45.4, 89, 92, 58, 45)\n",
      "The highest score in the tuple is: 92 and its index is: 5\n",
      "The lowest score is: 45 and it's frequency is: 2\n",
      "The revresed tuple in the form of list is: [45, 58, 92, 89, 45.4, 76, 89.5, 45]\n",
      "Is 76 present in the tuple: True\n",
      "Index of 76 is: 2\n"
     ]
    }
   ],
   "source": [
    "T=(45,89.5,76,45.4,89,92,58,45)\n",
    "print(\"The original tuple is:\",T)\n",
    "print(\"The highest score in the tuple is:\",max(T),\"and its index is:\",T.index(max(T)))\n",
    "print(\"The lowest score is:\",min(T),\"and it's frequency is:\",T.count(min(T)))\n",
    "L=list(T)\n",
    "L.reverse()\n",
    "print(\"The revresed tuple in the form of list is:\",L)\n",
    "print(\"Is 76 present in the tuple:\",76 in T)\n",
    "if(76 in T):\n",
    "    print(\"Index of 76 is:\",T.index(76))\n",
    "else:\n",
    "    print(\"76 is not present\")\n"
   ]
  },
  {
   "cell_type": "code",
   "execution_count": 87,
   "metadata": {},
   "outputs": [
    {
     "name": "stdout",
     "output_type": "stream",
     "text": [
      "The list of 100 random numbers between 100 and 900 is: [350, 697, 865, 201, 841, 281, 150, 583, 558, 264, 795, 376, 890, 210, 606, 837, 306, 268, 615, 612, 128, 345, 845, 442, 148, 203, 158, 434, 693, 478, 373, 167, 691, 240, 796, 479, 868, 654, 448, 140, 430, 157, 346, 829, 603, 659, 481, 684, 803, 113, 126, 279, 469, 433, 372, 562, 132, 720, 831, 182, 451, 580, 774, 181, 872, 559, 503, 863, 109, 338, 477, 471, 812, 582, 368, 112, 307, 258, 423, 321, 888, 521, 742, 806, 499, 512, 137, 732, 358, 393, 788, 428, 632, 877, 895, 586, 690, 897, 571, 199]\n",
      "Even number: 350\n",
      "Odd number: 697\n",
      "Odd number: 865\n",
      "Odd number: 201\n",
      "Odd number: 841\n",
      "Odd number: 281\n",
      "Prime number: 281\n",
      "Even number: 150\n",
      "Odd number: 583\n",
      "Even number: 558\n",
      "Even number: 264\n",
      "Odd number: 795\n",
      "Even number: 376\n",
      "Even number: 890\n",
      "Even number: 210\n",
      "Even number: 606\n",
      "Odd number: 837\n",
      "Even number: 306\n",
      "Even number: 268\n",
      "Odd number: 615\n",
      "Even number: 612\n",
      "Even number: 128\n",
      "Odd number: 345\n",
      "Odd number: 845\n",
      "Even number: 442\n",
      "Even number: 148\n",
      "Odd number: 203\n",
      "Even number: 158\n",
      "Even number: 434\n",
      "Odd number: 693\n",
      "Even number: 478\n",
      "Odd number: 373\n",
      "Prime number: 373\n",
      "Odd number: 167\n",
      "Prime number: 167\n",
      "Odd number: 691\n",
      "Prime number: 691\n",
      "Even number: 240\n",
      "Even number: 796\n",
      "Odd number: 479\n",
      "Prime number: 479\n",
      "Even number: 868\n",
      "Even number: 654\n",
      "Even number: 448\n",
      "Even number: 140\n",
      "Even number: 430\n",
      "Odd number: 157\n",
      "Prime number: 157\n",
      "Even number: 346\n",
      "Odd number: 829\n",
      "Prime number: 829\n",
      "Odd number: 603\n",
      "Odd number: 659\n",
      "Prime number: 659\n",
      "Odd number: 481\n",
      "Even number: 684\n",
      "Odd number: 803\n",
      "Odd number: 113\n",
      "Prime number: 113\n",
      "Even number: 126\n",
      "Odd number: 279\n",
      "Odd number: 469\n",
      "Odd number: 433\n",
      "Prime number: 433\n",
      "Even number: 372\n",
      "Even number: 562\n",
      "Even number: 132\n",
      "Even number: 720\n",
      "Odd number: 831\n",
      "Even number: 182\n",
      "Odd number: 451\n",
      "Even number: 580\n",
      "Even number: 774\n",
      "Odd number: 181\n",
      "Prime number: 181\n",
      "Even number: 872\n",
      "Odd number: 559\n",
      "Odd number: 503\n",
      "Prime number: 503\n",
      "Odd number: 863\n",
      "Prime number: 863\n",
      "Odd number: 109\n",
      "Prime number: 109\n",
      "Even number: 338\n",
      "Odd number: 477\n",
      "Odd number: 471\n",
      "Even number: 812\n",
      "Even number: 582\n",
      "Even number: 368\n",
      "Even number: 112\n",
      "Odd number: 307\n",
      "Prime number: 307\n",
      "Even number: 258\n",
      "Odd number: 423\n",
      "Odd number: 321\n",
      "Even number: 888\n",
      "Odd number: 521\n",
      "Prime number: 521\n",
      "Even number: 742\n",
      "Even number: 806\n",
      "Odd number: 499\n",
      "Prime number: 499\n",
      "Even number: 512\n",
      "Odd number: 137\n",
      "Prime number: 137\n",
      "Even number: 732\n",
      "Even number: 358\n",
      "Odd number: 393\n",
      "Even number: 788\n",
      "Even number: 428\n",
      "Even number: 632\n",
      "Odd number: 877\n",
      "Prime number: 877\n",
      "Odd number: 895\n",
      "Even number: 586\n",
      "Even number: 690\n",
      "Odd number: 897\n",
      "Odd number: 571\n",
      "Prime number: 571\n",
      "Odd number: 199\n",
      "Prime number: 199\n",
      "Total even numbers are: 52\n",
      "Total odd numbers are: 48\n",
      "Total prime numbers are: 21\n"
     ]
    }
   ],
   "source": [
    "import random as r \n",
    "L=r.sample(range(100,900),100)\n",
    "print(\"The list of 100 random numbers between 100 and 900 is:\",L)\n",
    "countE=0\n",
    "countO=0\n",
    "countPrime=0\n",
    "IsPrime=True\n",
    "def IsPrime(n):\n",
    "    for j in range(2,n//2+1):\n",
    "        if(n%j==0):\n",
    "            return False\n",
    "    return True\n",
    "\n",
    "for i in range(len(L)):\n",
    "    if L[i]%2==0:\n",
    "        print(\"Even number:\",L[i])\n",
    "        countE=countE+1\n",
    "    else:\n",
    "        print(\"Odd number:\",L[i])\n",
    "        countO=countO+1\n",
    "    if IsPrime(L[i]):\n",
    "        print(\"Prime number:\",L[i])\n",
    "        countPrime=countPrime+1\n",
    "\n",
    "print(\"Total even numbers are:\",countE) \n",
    "print(\"Total odd numbers are:\",countO)\n",
    "print(\"Total prime numbers are:\",countPrime)\n",
    "\n",
    "    "
   ]
  },
  {
   "cell_type": "code",
   "execution_count": 90,
   "metadata": {},
   "outputs": [
    {
     "name": "stdout",
     "output_type": "stream",
     "text": [
      "The unique scores achieved by A and B are: {34, 45, 78, 23, 56, 90}\n",
      "The common scores achieved by A and B are: {90, 78}\n",
      "The scores exclusive to each team are: {34, 45, 23, 56}\n",
      "A is not subset of B\n",
      "B is not superset of A\n",
      "The score removed succesfully {56, 90, 78}\n"
     ]
    }
   ],
   "source": [
    "A={34,56,78,90}\n",
    "B={78,45,90,23}\n",
    "print(\"The unique scores achieved by A and B are:\",A.union(B))\n",
    "print(\"The common scores achieved by A and B are:\",A.intersection(B))\n",
    "print(\"The scores exclusive to each team are:\",A.symmetric_difference(B))\n",
    "if A.issubset(B):\n",
    "    print(\"A is subset of B\")\n",
    "else:\n",
    "    print(\"A is not subset of B\")\n",
    "if B.issuperset(A):\n",
    "    print(\"B is superset of A\")\n",
    "else:\n",
    "    print(\"B is not superset of A\")\n",
    "score=int(input(\"Enter the score you want to remove\"))\n",
    "if(score in A):\n",
    "   A.remove(score)\n",
    "   print(\"The score removed succesfully\",A)\n",
    "else:\n",
    "    print(\"The score you want to remove is not present\")"
   ]
  },
  {
   "cell_type": "code",
   "execution_count": 91,
   "metadata": {},
   "outputs": [
    {
     "name": "stdout",
     "output_type": "stream",
     "text": [
      "The original dictionary is: {'name': 'Kelly', 'age': 25, 'salary': 8000, 'city': 'New York'}\n",
      "After renaming city to location, the dictionary is: {'name': 'Kelly', 'age': 25, 'salary': 8000, 'location': 'New York'}\n"
     ]
    }
   ],
   "source": [
    "sample_dict={\"name\":\"Kelly\",\"age\":25,\"salary\":8000,\"city\":\"New York\"}\n",
    "print(\"The original dictionary is:\",sample_dict)\n",
    "sample_dict[\"location\"]=sample_dict.pop(\"city\")\n",
    "print(\"After renaming city to location, the dictionary is:\",sample_dict)"
   ]
  }
 ],
 "metadata": {
  "kernelspec": {
   "display_name": "base",
   "language": "python",
   "name": "python3"
  },
  "language_info": {
   "codemirror_mode": {
    "name": "ipython",
    "version": 3
   },
   "file_extension": ".py",
   "mimetype": "text/x-python",
   "name": "python",
   "nbconvert_exporter": "python",
   "pygments_lexer": "ipython3",
   "version": "3.12.7"
  }
 },
 "nbformat": 4,
 "nbformat_minor": 2
}
