{
 "cells": [
  {
   "cell_type": "markdown",
   "metadata": {},
   "source": [
    "ASSIGNMENT-4\n"
   ]
  },
  {
   "cell_type": "code",
   "execution_count": 38,
   "metadata": {},
   "outputs": [
    {
     "name": "stdout",
     "output_type": "stream",
     "text": [
      "['a' 'b' 'c']\n",
      "[[1 2 3]\n",
      " [4 5 6]]\n",
      "<U1\n",
      "2\n",
      "(2, 3)\n",
      "[[1 2]]\n",
      "[  1   2   3 400 400]\n"
     ]
    }
   ],
   "source": [
    "# PRACTICE\n",
    "import numpy as np\n",
    "arr_1d=np.array([\"a\",\"b\",\"c\"])\n",
    "arr_2d=np.array([[1,2,3],[4,5,6]])\n",
    "print(arr_1d)\n",
    "print(arr_2d)\n",
    "type(arr_2d)\n",
    "print(arr_1d.dtype)\n",
    "print(arr_2d.ndim)\n",
    "print(arr_2d.shape)\n",
    "print(arr_2d[0:1,0:2])\n",
    "a=np.array([1,2,3,4,5])\n",
    "a[3:5]=400\n",
    "print(a)\n"
   ]
  },
  {
   "cell_type": "code",
   "execution_count": 39,
   "metadata": {},
   "outputs": [
    {
     "name": "stdout",
     "output_type": "stream",
     "text": [
      "The original array is: [ 2  4  6  8 10]\n",
      "after adding 2 to each element: [ 4  6  8 10 12]\n",
      "after multiplying 3 with each element: [ 6 12 18 24 30]\n",
      "after dividing each element with 2: [1. 2. 3. 4. 5.]\n"
     ]
    }
   ],
   "source": [
    "#QUESTION-1\n",
    "import numpy as np\n",
    "arr=np.array([2,4,6,8,10])\n",
    "print(\"The original array is:\",arr)\n",
    "print(\"after adding 2 to each element:\",arr+2)\n",
    "print(\"after multiplying 3 with each element:\",arr*3)\n",
    "print(\"after dividing each element with 2:\",arr/2)"
   ]
  },
  {
   "cell_type": "code",
   "execution_count": 40,
   "metadata": {},
   "outputs": [
    {
     "name": "stdout",
     "output_type": "stream",
     "text": [
      "(a) Flipped array: [5 4 6 3 2 1]\n",
      "\n",
      "\n",
      "(b)First array is: [1 2 3 4 5 1 2 1 1 1]\n",
      "Frequency of each number(0 to 5): [0 5 2 1 1 1]\n",
      "No.having highest frequency: 1\n",
      "All indexes where 1 is present in array: [0 5 7 8 9]\n",
      "\n",
      "\n",
      "Second array is: [1 1 1 2 3 4 2 4 3 3]\n",
      "Frequency of each number(0 to 4): [0 3 2 3 2]\n",
      "No.having highest frequency: 1\n",
      "All indexes where 1 is present in array: [0 1 2]\n"
     ]
    }
   ],
   "source": [
    "#QUESTION-2\n",
    "import numpy as np\n",
    "arr=np.array([1,2,3,6,4,5])\n",
    "print(\"(a) Flipped array:\",np.flip(arr))\n",
    "print(\"\\n\")\n",
    "x=np.array([1,2,3,4,5,1,2,1,1,1])\n",
    "y=np.array([1,1,1,2,3,4,2,4,3,3])\n",
    "print(\"(b)First array is:\",x)\n",
    "count=np.bincount(x)\n",
    "print(\"Frequency of each number(0 to 5):\",count)\n",
    "mostfreq=np.argmax(count)\n",
    "print(\"No.having highest frequency:\",mostfreq)\n",
    "indices=np.where(x==mostfreq)[0]\n",
    "print(\"All indexes where\",mostfreq,\"is present in array:\",indices)\n",
    "print(\"\\n\")\n",
    "print(\"Second array is:\",y)\n",
    "count2=np.bincount(y)\n",
    "print(\"Frequency of each number(0 to 4):\",count2)\n",
    "mostfreq2=np.argmax(count)\n",
    "print(\"No.having highest frequency:\",mostfreq2)\n",
    "indices2=np.where(y==mostfreq2)[0]\n",
    "print(\"All indexes where\",mostfreq2,\"is present in array:\",indices2)"
   ]
  },
  {
   "cell_type": "code",
   "execution_count": 41,
   "metadata": {},
   "outputs": [
    {
     "name": "stdout",
     "output_type": "stream",
     "text": [
      "[[10 20 30]\n",
      " [40 50 60]\n",
      " [70 80 90]]\n",
      "Element at first row and second column: 20\n",
      "Element at third row and first column: 70\n"
     ]
    }
   ],
   "source": [
    "#QUESTION-3\n",
    "arr=np.array([[10, 20, 30], [40, 50, 60], [70, 80, 90]])\n",
    "print(arr)\n",
    "print(\"Element at first row and second column:\",arr[0,1])\n",
    "print(\"Element at third row and first column:\",arr[2,0])"
   ]
  },
  {
   "cell_type": "code",
   "execution_count": 42,
   "metadata": {},
   "outputs": [
    {
     "name": "stdout",
     "output_type": "stream",
     "text": [
      "The array is: [ 10.    13.75  17.5   21.25  25.    28.75  32.5   36.25  40.    43.75\n",
      "  47.5   51.25  55.    58.75  62.5   66.25  70.    73.75  77.5   81.25\n",
      "  85.    88.75  92.5   96.25 100.  ]\n",
      "Dimensions of array: 1\n",
      "Shape of array: (25,)\n",
      "Size of array: 25\n",
      "Data-type of elements: float64\n",
      "Total bytes consumed: 200\n",
      "Transpose of array: [[ 10.  ]\n",
      " [ 13.75]\n",
      " [ 17.5 ]\n",
      " [ 21.25]\n",
      " [ 25.  ]\n",
      " [ 28.75]\n",
      " [ 32.5 ]\n",
      " [ 36.25]\n",
      " [ 40.  ]\n",
      " [ 43.75]\n",
      " [ 47.5 ]\n",
      " [ 51.25]\n",
      " [ 55.  ]\n",
      " [ 58.75]\n",
      " [ 62.5 ]\n",
      " [ 66.25]\n",
      " [ 70.  ]\n",
      " [ 73.75]\n",
      " [ 77.5 ]\n",
      " [ 81.25]\n",
      " [ 85.  ]\n",
      " [ 88.75]\n",
      " [ 92.5 ]\n",
      " [ 96.25]\n",
      " [100.  ]]\n",
      "Transpose using T attribute: [ 10.    13.75  17.5   21.25  25.    28.75  32.5   36.25  40.    43.75\n",
      "  47.5   51.25  55.    58.75  62.5   66.25  70.    73.75  77.5   81.25\n",
      "  85.    88.75  92.5   96.25 100.  ]\n",
      "Does transpose and transpose_T give same result? False\n"
     ]
    }
   ],
   "source": [
    "#QUESTION-4\n",
    "import numpy as np\n",
    "Sarv=np.linspace(10,100,25)\n",
    "print(\"The array is:\",Sarv)\n",
    "print(\"Dimensions of array:\",Sarv.ndim)\n",
    "print(\"Shape of array:\",Sarv.shape)\n",
    "print(\"Size of array:\",Sarv.size)\n",
    "print(\"Data-type of elements:\",Sarv.dtype)\n",
    "print(\"Total bytes consumed:\",Sarv.nbytes)\n",
    "transpose=Sarv.reshape(25,1)\n",
    "print(\"Transpose of array:\",transpose)\n",
    "transpose_T=Sarv.T\n",
    "print(\"Transpose using T attribute:\",transpose_T)\n",
    "print(\"Does transpose and transpose_T give same result?\",np.array_equal(transpose,transpose_T))"
   ]
  },
  {
   "cell_type": "code",
   "execution_count": 44,
   "metadata": {},
   "outputs": [
    {
     "name": "stdout",
     "output_type": "stream",
     "text": [
      "The array is: [[10 20 30 40]\n",
      " [50 60 70 80]\n",
      " [90 15 20 35]]\n",
      "Mean of elements: 43.333333333333336\n",
      "Median of elements: 37.5\n",
      "Maximum element is: 90\n",
      "Minimum element is: 10\n",
      "Unique element is: [10 15 20 30 35 40 50 60 70 80 90]\n",
      "Reshaped array: [[10 20 30]\n",
      " [40 50 60]\n",
      " [70 80 90]\n",
      " [15 20 35]]\n",
      "Resized array: [[10 20 30]\n",
      " [40 50 60]]\n"
     ]
    }
   ],
   "source": [
    "#QUESTION-5\n",
    "import numpy as np\n",
    "ucs420_Sarv=np.array([[10,20,30,40],[50,60,70,80],[90,15,20,35]])\n",
    "print(\"The array is:\",ucs420_Sarv)\n",
    "print(\"Mean of elements:\",np.mean(ucs420_Sarv))\n",
    "print(\"Median of elements:\",np.median(ucs420_Sarv))\n",
    "print(\"Maximum element is:\",np.max(ucs420_Sarv))\n",
    "print(\"Minimum element is:\",np.min(ucs420_Sarv))\n",
    "print(\"Unique element is:\",np.unique(ucs420_Sarv))\n",
    "reshaped_ucs420_Sarv=ucs420_Sarv.reshape(4,3)\n",
    "print(\"Reshaped array:\",reshaped_ucs420_Sarv)\n",
    "resized_ucs420_Sarv=np.resize(ucs420_Sarv,(2,3))\n",
    "print(\"Resized array:\",resized_ucs420_Sarv)"
   ]
  }
 ],
 "metadata": {
  "kernelspec": {
   "display_name": "base",
   "language": "python",
   "name": "python3"
  },
  "language_info": {
   "codemirror_mode": {
    "name": "ipython",
    "version": 3
   },
   "file_extension": ".py",
   "mimetype": "text/x-python",
   "name": "python",
   "nbconvert_exporter": "python",
   "pygments_lexer": "ipython3",
   "version": "3.12.7"
  }
 },
 "nbformat": 4,
 "nbformat_minor": 2
}
