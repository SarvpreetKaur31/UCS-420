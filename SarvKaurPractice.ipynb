{
 "cells": [
  {
   "cell_type": "markdown",
   "metadata": {},
   "source": [
    "Practice Questions\n"
   ]
  },
  {
   "cell_type": "code",
   "execution_count": 1,
   "metadata": {},
   "outputs": [
    {
     "name": "stdout",
     "output_type": "stream",
     "text": [
      "Hello World\n"
     ]
    }
   ],
   "source": [
    "print(\"Hello World\")"
   ]
  },
  {
   "cell_type": "code",
   "execution_count": 2,
   "metadata": {},
   "outputs": [
    {
     "name": "stdout",
     "output_type": "stream",
     "text": [
      "10 + 20 ---> 30\n"
     ]
    }
   ],
   "source": [
    "a=10\n",
    "b=20\n",
    "c=a+b\n",
    "print(a,\"+\",b,\"--->\",c)"
   ]
  },
  {
   "cell_type": "code",
   "execution_count": 4,
   "metadata": {},
   "outputs": [
    {
     "name": "stdout",
     "output_type": "stream",
     "text": [
      "Hi! +  How are you? --> Hi! How are you?\n"
     ]
    }
   ],
   "source": [
    "a=\"Hi!\"\n",
    "b=\" How are you?\"\n",
    "c=a+b\n",
    "print(a,\"+\",b,\"-->\",c)"
   ]
  },
  {
   "cell_type": "code",
   "execution_count": 10,
   "metadata": {},
   "outputs": [
    {
     "name": "stdout",
     "output_type": "stream",
     "text": [
      "Sarv  + 31 --> Sarv 31\n"
     ]
    }
   ],
   "source": [
    "a=\"Sarv \"\n",
    "b=31\n",
    "c=a+str(b)\n",
    "print(a,\"+\",b,\"-->\",c)"
   ]
  },
  {
   "cell_type": "code",
   "execution_count": 13,
   "metadata": {},
   "outputs": [
    {
     "name": "stdout",
     "output_type": "stream",
     "text": [
      "sarv + kaur --> sarvkaur\n"
     ]
    }
   ],
   "source": [
    "a=input(\"enter the first string\")\n",
    "b=input(\"enter the second string\")\n",
    "c=a+b\n",
    "print(a,\"+\",b,\"-->\",c)"
   ]
  },
  {
   "cell_type": "code",
   "execution_count": 14,
   "metadata": {},
   "outputs": [
    {
     "name": "stdout",
     "output_type": "stream",
     "text": [
      "12 + 16 --> 28\n"
     ]
    }
   ],
   "source": [
    "a=int(input(\"enter the first number\"))\n",
    "b=int(input(\"enter the second number\"))\n",
    "c=a+b\n",
    "print(a,\"+\",b,\"-->\",c)"
   ]
  },
  {
   "cell_type": "code",
   "execution_count": 15,
   "metadata": {},
   "outputs": [
    {
     "name": "stdout",
     "output_type": "stream",
     "text": [
      "1\n",
      "2\n",
      "3\n",
      "4\n",
      "5\n",
      "6\n",
      "7\n",
      "8\n",
      "9\n",
      "10\n"
     ]
    }
   ],
   "source": [
    "i=1\n",
    "while i<=10:\n",
    "    print(i)\n",
    "    i=i+1"
   ]
  },
  {
   "cell_type": "code",
   "execution_count": 16,
   "metadata": {},
   "outputs": [
    {
     "name": "stdout",
     "output_type": "stream",
     "text": [
      "range(10)-----> [0, 1, 2, 3, 4, 5, 6, 7, 8, 9]\n",
      "range(10,20)-----> [10, 11, 12, 13, 14, 15, 16, 17, 18, 19]\n",
      "range(0,20,2)-----> [0, 2, 4, 6, 8, 10, 12, 14, 16, 18]\n",
      "range(-10,-20,2)-----> []\n",
      "range(-10,-20,-2)-----> [-10, -12, -14, -16, -18]\n"
     ]
    }
   ],
   "source": [
    "print(\"range(10)----->\",list(range(10)))\n",
    "print(\"range(10,20)----->\",list(range(10,20)))\n",
    "print(\"range(0,20,2)----->\",list(range(0,20,2)))\n",
    "print(\"range(-10,-20,2)----->\",list(range(-10,-20,2)))\n",
    "print(\"range(-10,-20,-2)----->\",list(range(-10,-20,-2)))\n"
   ]
  },
  {
   "cell_type": "code",
   "execution_count": 17,
   "metadata": {},
   "outputs": [
    {
     "name": "stdout",
     "output_type": "stream",
     "text": [
      "0\n",
      "1\n",
      "2\n",
      "3\n",
      "4\n",
      "5\n",
      "6\n",
      "7\n",
      "8\n",
      "9\n"
     ]
    }
   ],
   "source": [
    "for i in range(0,10):\n",
    "    print(i)"
   ]
  },
  {
   "cell_type": "code",
   "execution_count": 18,
   "metadata": {},
   "outputs": [
    {
     "name": "stdout",
     "output_type": "stream",
     "text": [
      "0\n",
      "2\n",
      "4\n",
      "6\n",
      "8\n",
      "10\n",
      "12\n",
      "14\n",
      "16\n",
      "18\n"
     ]
    }
   ],
   "source": [
    "for i in range(0,20,2):\n",
    "    print(i)\n",
    "    "
   ]
  },
  {
   "cell_type": "code",
   "execution_count": 19,
   "metadata": {},
   "outputs": [
    {
     "name": "stdout",
     "output_type": "stream",
     "text": [
      "0\n",
      "-1\n",
      "-2\n",
      "-3\n",
      "-4\n",
      "-5\n",
      "-6\n",
      "-7\n",
      "-8\n",
      "-9\n"
     ]
    }
   ],
   "source": [
    "for i in range(0,-10,-1):\n",
    "    print(i)"
   ]
  },
  {
   "cell_type": "code",
   "execution_count": 20,
   "metadata": {},
   "outputs": [
    {
     "name": "stdout",
     "output_type": "stream",
     "text": [
      "5 * 1 = 5\n",
      "5 * 2 = 10\n",
      "5 * 3 = 15\n",
      "5 * 4 = 20\n",
      "5 * 5 = 25\n",
      "5 * 6 = 30\n",
      "5 * 7 = 35\n",
      "5 * 8 = 40\n",
      "5 * 9 = 45\n",
      "5 * 10 = 50\n"
     ]
    }
   ],
   "source": [
    "for i in range(1,11):\n",
    "    print(5,\"*\",i,\"=\",i*5)"
   ]
  },
  {
   "cell_type": "code",
   "execution_count": 21,
   "metadata": {},
   "outputs": [
    {
     "name": "stdout",
     "output_type": "stream",
     "text": [
      "The sum is: 55\n"
     ]
    }
   ],
   "source": [
    "sum=0\n",
    "for i in range(1,11):\n",
    "    sum=sum+i\n",
    "print(\"The sum is:\",sum)"
   ]
  },
  {
   "cell_type": "code",
   "execution_count": 22,
   "metadata": {},
   "outputs": [
    {
     "name": "stdout",
     "output_type": "stream",
     "text": [
      "10 < 36\n"
     ]
    }
   ],
   "source": [
    "a=int(input(\"enter the first number\"))\n",
    "b=int(input(\"enter the second number\"))\n",
    "if a>b:\n",
    "    print(a,\">\",b)\n",
    "else:\n",
    "    print(a,\"<\",b)"
   ]
  },
  {
   "cell_type": "code",
   "execution_count": 24,
   "metadata": {},
   "outputs": [
    {
     "name": "stdout",
     "output_type": "stream",
     "text": [
      "odd\n"
     ]
    }
   ],
   "source": [
    "n=int(input(\"enter the number\"))\n",
    "if n%2==0:\n",
    "    print(\"even\")\n",
    "else:\n",
    "    print(\"odd\")"
   ]
  },
  {
   "cell_type": "code",
   "execution_count": 32,
   "metadata": {},
   "outputs": [
    {
     "name": "stdout",
     "output_type": "stream",
     "text": [
      "Prime\n"
     ]
    }
   ],
   "source": [
    "n=int(input(\"enter the number\"))\n",
    "prime=True\n",
    "for i in range(2,n//2+1):\n",
    "    if n%i==0:\n",
    "        prime=False\n",
    "        break\n",
    "if prime==True:\n",
    "    print(\"Prime\")\n",
    "else:\n",
    "    print(\"not prime\")\n"
   ]
  },
  {
   "cell_type": "code",
   "execution_count": 41,
   "metadata": {},
   "outputs": [
    {
     "name": "stdout",
     "output_type": "stream",
     "text": [
      "sarv > kaur\n"
     ]
    }
   ],
   "source": [
    "a=input(\"enter the first string\")\n",
    "b=input(\"enter the second string\")\n",
    "if a==b:\n",
    "    print(a,\"=\",b)\n",
    "elif a>b:\n",
    "    print(a,\">\",b)\n",
    "else:\n",
    "    print(a,\"<\",b)\n"
   ]
  },
  {
   "cell_type": "code",
   "execution_count": 42,
   "metadata": {},
   "outputs": [
    {
     "name": "stdout",
     "output_type": "stream",
     "text": [
      "Add(10,20)----> 30\n",
      "Add(1.5,2.5)----> 4.0\n",
      "Add(sarv,kaur)----> sarvkaur\n"
     ]
    }
   ],
   "source": [
    "def Add(a,b):\n",
    "    c=a+b\n",
    "    return c\n",
    "print(\"Add(10,20)---->\",Add(10,20))\n",
    "print(\"Add(1.5,2.5)---->\",Add(1.5,2.5))\n",
    "print(\"Add(sarv,kaur)---->\",Add(\"sarv\",\"kaur\"))"
   ]
  },
  {
   "cell_type": "code",
   "execution_count": 43,
   "metadata": {},
   "outputs": [
    {
     "name": "stdout",
     "output_type": "stream",
     "text": [
      "IsPrime(29)---> 1\n",
      "IsPrime(37)---> 1\n",
      "IsPrime(119)---> 0\n"
     ]
    }
   ],
   "source": [
    "def IsPrime(n):\n",
    "    for i in range(2,n//2+1):\n",
    "        if n%i==0:\n",
    "            return 0\n",
    "    return 1\n",
    "print(\"IsPrime(29)--->\",IsPrime(29))\n",
    "print(\"IsPrime(37)--->\",IsPrime(37))\n",
    "print(\"IsPrime(119)--->\",IsPrime(119))"
   ]
  },
  {
   "cell_type": "code",
   "execution_count": 45,
   "metadata": {},
   "outputs": [
    {
     "name": "stdout",
     "output_type": "stream",
     "text": [
      "the sum of first n numbers is: 55\n"
     ]
    }
   ],
   "source": [
    "def AddN(n):\n",
    "    sum=0\n",
    "    for i in range(0,n+1):\n",
    "        sum=sum+i\n",
    "    return sum\n",
    "print(\"the sum of first n numbers is:\",AddN(10))"
   ]
  },
  {
   "cell_type": "code",
   "execution_count": 48,
   "metadata": {},
   "outputs": [
    {
     "name": "stdout",
     "output_type": "stream",
     "text": [
      "exp(-200)--> 1.3838965267367376e-87\n",
      "log(100,2)---> 6.643856189774725\n",
      "log(100,10)---> 2.0\n",
      "log(10(100))---> 2.0\n",
      "cos(30)---> 0.15425144988758405\n",
      "sin(30)---> -0.9880316240928618\n",
      "tan(30)---> -6.405331196646276\n",
      "sqrt(625)---> 25.0\n",
      "ceil(2.5)---> 3\n",
      "floor(2.5))---> 2\n"
     ]
    }
   ],
   "source": [
    "import math as m\n",
    "print(\"exp(-200)-->\",m.exp(-200))\n",
    "print(\"log(100,2)--->\",m.log(100,2))\n",
    "print(\"log(100,10)--->\",m.log(100,10))\n",
    "print(\"log(10(100))--->\",m.log10(100))\n",
    "print(\"cos(30)--->\",m.cos(30))\n",
    "print(\"sin(30)--->\",m.sin(30))\n",
    "print(\"tan(30)--->\",m.tan(30))\n",
    "print(\"sqrt(625)--->\",m.sqrt(625))\n",
    "print(\"ceil(2.5)--->\",m.ceil(2.5))\n",
    "print(\"floor(2.5))--->\",m.floor(2.5))\n"
   ]
  },
  {
   "cell_type": "code",
   "execution_count": 51,
   "metadata": {},
   "outputs": [
    {
     "name": "stdout",
     "output_type": "stream",
     "text": [
      "var--> hello world!\n",
      "var[0]--> h\n",
      "var[1:5]--> ello\n",
      "var[:-5]--> hello w\n",
      "var[:-2]--> hello worl\n"
     ]
    }
   ],
   "source": [
    "var=\"hello world!\"\n",
    "print(\"var-->\",var)\n",
    "print(\"var[0]-->\",var[0])\n",
    "print(\"var[1:5]-->\",var[1:5])\n",
    "print(\"var[:-5]-->\",var[:-5])\n",
    "print(\"var[:-2]-->\",var[:-2])"
   ]
  },
  {
   "cell_type": "code",
   "execution_count": 52,
   "metadata": {},
   "outputs": [
    {
     "name": "stdout",
     "output_type": "stream",
     "text": [
      "string--> hello world\n",
      "legth--> 11\n",
      "upper--> HELLO WORLD\n",
      "lower--> hello world\n"
     ]
    }
   ],
   "source": [
    "var=\"hello world\"\n",
    "print(\"string-->\",var)\n",
    "print(\"legth-->\",len(var))\n",
    "print(\"upper-->\",var.upper())\n",
    "print(\"lower-->\",var.lower())"
   ]
  },
  {
   "cell_type": "code",
   "execution_count": 56,
   "metadata": {},
   "outputs": [
    {
     "name": "stdout",
     "output_type": "stream",
     "text": [
      "\n",
      "Your name is SARV, age is 19 and the book price is 500.000000\n"
     ]
    }
   ],
   "source": [
    "name=input(\"enter your name\")\n",
    "age=int(input(\"enter your age\"))\n",
    "price=float(input(\"enter the price of book\"))\n",
    "string=\"\\nYour name is %s, age is %d and the book price is %f\" %(name.upper(),age,price)\n",
    "print(string)"
   ]
  },
  {
   "cell_type": "code",
   "execution_count": 58,
   "metadata": {},
   "outputs": [
    {
     "name": "stdout",
     "output_type": "stream",
     "text": [
      "this is a long string consisting of several lines and non-printable characters like tab(\t) and they will show their effect, for new line we have[\n",
      "] or just a NEWLINE will also work\n"
     ]
    }
   ],
   "source": [
    "para_str=\"\"\"this is a long string consisting of several lines and non-printable characters like tab(\\t) and they will show their effect, for new line we have[\\n] or just a NEWLINE will also work\"\"\"\n",
    "print(para_str)"
   ]
  },
  {
   "cell_type": "code",
   "execution_count": 61,
   "metadata": {},
   "outputs": [
    {
     "name": "stdout",
     "output_type": "stream",
     "text": [
      "string-->      Indian Navy    \n",
      "length--> 20\n",
      "var strip--> Indian Navy\n",
      "length of var after strip--> 11\n"
     ]
    }
   ],
   "source": [
    "var=\"     Indian Navy    \"\n",
    "print(\"string-->\",var)\n",
    "print(\"length-->\",len(var))\n",
    "print(\"var strip-->\",var.strip())\n",
    "print(\"length of var after strip-->\",len(var.strip()))"
   ]
  },
  {
   "cell_type": "code",
   "execution_count": 65,
   "metadata": {},
   "outputs": [
    {
     "name": "stdout",
     "output_type": "stream",
     "text": [
      "string-->  Indian, Navy    \n",
      "length--> 17\n",
      "var split--> ['Indian,', 'Navy']\n",
      "var split--> ['', 'Indian,', 'Navy', '', '', '', '']\n",
      "var split--> [' Indian', ' Navy    ']\n",
      "var split--> ['Indian', ' Navy']\n"
     ]
    }
   ],
   "source": [
    "var=\" Indian, Navy    \"\n",
    "print(\"string-->\",var)\n",
    "print(\"length-->\",len(var))\n",
    "print(\"var split-->\",var.split())\n",
    "print(\"var split-->\",var.split(' '))\n",
    "print(\"var split-->\",var.split(','))\n",
    "print(\"var split-->\",var.strip().split(','))"
   ]
  },
  {
   "cell_type": "code",
   "execution_count": 66,
   "metadata": {},
   "outputs": [
    {
     "name": "stdout",
     "output_type": "stream",
     "text": [
      "string--->  Indian Navy  \n",
      "count of' '--> 4\n",
      "count of'a'--> 2\n",
      "count of'n'--> 2\n"
     ]
    }
   ],
   "source": [
    "var=\" Indian Navy  \"\n",
    "print(\"string--->\",var)\n",
    "print(\"count of' '-->\",var.count(' '))\n",
    "print(\"count of'a'-->\",var.count('a'))\n",
    "print(\"count of'n'-->\",var.count('n'))"
   ]
  },
  {
   "cell_type": "code",
   "execution_count": 67,
   "metadata": {},
   "outputs": [
    {
     "name": "stdout",
     "output_type": "stream",
     "text": [
      "string---> Indian Navy\n",
      "var[::1]--> Indian Navy\n",
      "var[::2]--> Ida ay\n",
      "var[::-1]--> yvaN naidnI\n",
      "var[::-2]--> ya adI\n"
     ]
    }
   ],
   "source": [
    "var=\"Indian Navy\"\n",
    "print(\"string--->\",var)\n",
    "print(\"var[::1]-->\",var[::1])\n",
    "print(\"var[::2]-->\",var[::2])\n",
    "print(\"var[::-1]-->\",var[::-1])\n",
    "print(\"var[::-2]-->\",var[::-2])"
   ]
  },
  {
   "cell_type": "code",
   "execution_count": 69,
   "metadata": {},
   "outputs": [
    {
     "name": "stdout",
     "output_type": "stream",
     "text": [
      "s1---> True\n",
      "s2---> True\n",
      "s3---> False\n",
      "s4---> False\n"
     ]
    }
   ],
   "source": [
    "s1=\"malayalam\"\n",
    "s2=\"madam\"\n",
    "s3=\"sarv\"\n",
    "s4=\"kaur\"\n",
    "print(\"s1--->\",s1==s1[::-1])\n",
    "print(\"s2--->\",s2==s2[::-1])\n",
    "print(\"s3--->\",s3==s3[::-1])\n",
    "print(\"s4--->\",s4==s4[::-1])"
   ]
  },
  {
   "cell_type": "code",
   "execution_count": 72,
   "metadata": {},
   "outputs": [
    {
     "name": "stdout",
     "output_type": "stream",
     "text": [
      "0.5954360851444512\n",
      "0.9120655457434259\n",
      "0.6641\n"
     ]
    }
   ],
   "source": [
    "import random as r\n",
    "print(r.random())\n",
    "print(r.random())\n",
    "print(round(r.random(),4))"
   ]
  },
  {
   "cell_type": "code",
   "execution_count": 73,
   "metadata": {},
   "outputs": [
    {
     "name": "stdout",
     "output_type": "stream",
     "text": [
      "46\n",
      "90\n",
      "7\n",
      "1\n"
     ]
    }
   ],
   "source": [
    "import random as r\n",
    "print(r.randint(1,100))\n",
    "print(r.randint(1,100))\n",
    "print(r.randint(-10,10))\n",
    "print(r.randint(-10,10))"
   ]
  },
  {
   "cell_type": "code",
   "execution_count": 77,
   "metadata": {},
   "outputs": [
    {
     "name": "stdout",
     "output_type": "stream",
     "text": [
      "14.287792788512293\n",
      "55.73101853177083\n",
      "-3.797088716873822\n",
      "3.5557653885335583\n",
      "4.9484\n"
     ]
    }
   ],
   "source": [
    "import random as r\n",
    "print(r.uniform(1,100))\n",
    "print(r.uniform(1,100))\n",
    "print(r.uniform(-10,10))\n",
    "print(r.uniform(-10,10))\n",
    "print(round(r.uniform(-10,10),4))"
   ]
  },
  {
   "cell_type": "code",
   "execution_count": 78,
   "metadata": {},
   "outputs": [
    {
     "name": "stdout",
     "output_type": "stream",
     "text": [
      "[4, 1, 10, 6]\n",
      "[2, 1]\n",
      "[67, 69]\n",
      "[16, 81]\n"
     ]
    }
   ],
   "source": [
    "import random as r\n",
    "A=[1,2,4,6,8,10]\n",
    "print(r.sample(A,4))\n",
    "print(r.sample(A,2))\n",
    "print(r.sample(range(0,100),2))\n",
    "print(r.sample(range(0,100),2))"
   ]
  },
  {
   "cell_type": "code",
   "execution_count": 80,
   "metadata": {},
   "outputs": [
    {
     "name": "stdout",
     "output_type": "stream",
     "text": [
      "string--> abcdefghijklmnopqrstuvwxyzABCDEFGHIJKLMNOPQRSTUVWXYZ\n",
      "selected char--> ['r', 'W', 'B', 'v', 'c', 'w']\n",
      "pswrd1---> rWBvcw\n",
      "pswrd2---> r+W+B+v+c+w\n",
      "pswrd3---> r*W*B*v*c*w\n"
     ]
    }
   ],
   "source": [
    "import string as s \n",
    "import random as r\n",
    "print(\"string-->\",s.ascii_letters)\n",
    "pswrd=r.sample(s.ascii_letters,6)\n",
    "print(\"selected char-->\",pswrd)\n",
    "pswrd1=\"\".join(pswrd)\n",
    "print(\"pswrd1--->\",pswrd1)\n",
    "pswrd2=\"+\".join(pswrd)\n",
    "print(\"pswrd2--->\",pswrd2)\n",
    "pswrd3=\"*\".join(pswrd)\n",
    "print(\"pswrd3--->\",pswrd3)"
   ]
  },
  {
   "cell_type": "code",
   "execution_count": 81,
   "metadata": {},
   "outputs": [
    {
     "name": "stdout",
     "output_type": "stream",
     "text": [
      "digits--> 0123456789\n",
      "selected num1--> ['0', '2', '4', '1', '5']\n",
      "otp1--> 02415\n",
      "selected num2--> ['2', '3', '6', '0', '8']\n",
      "otp2--> 23608\n",
      "selected num3--> ['2', '7', '3', '6', '8']\n",
      "otp3--> 27368\n"
     ]
    }
   ],
   "source": [
    "import string as s\n",
    "import random as r\n",
    "print(\"digits-->\",s.digits)\n",
    "otp=r.sample(s.digits,5)\n",
    "print(\"selected num1-->\",otp)\n",
    "otp=\"\".join(otp)\n",
    "print(\"otp1-->\",otp)\n",
    "otp=r.sample(s.digits,5)\n",
    "print(\"selected num2-->\",otp)\n",
    "otp=\"\".join(otp)\n",
    "print(\"otp2-->\",otp)\n",
    "otp=r.sample(s.digits,5)\n",
    "print(\"selected num3-->\",otp)\n",
    "otp=\"\".join(otp)\n",
    "print(\"otp3-->\",otp)"
   ]
  },
  {
   "cell_type": "code",
   "execution_count": 85,
   "metadata": {},
   "outputs": [
    {
     "name": "stdout",
     "output_type": "stream",
     "text": [
      "string+digits---> abcdefghijklmnopqrstuvwxyzABCDEFGHIJKLMNOPQRSTUVWXYZ0123456789\n",
      "\n",
      "Selected str1---> ['x', 'W', '8', 'y', 'G']\n",
      "mixpswrd1--> xW8yG\n",
      "\n",
      "Selected str2---> ['U', 'z', 'C', 'o', '9', 'l']\n",
      "mixpswrd2--> UzCo9l\n",
      "\n",
      "Selected str3---> ['}', 'S', '^', '3', '@', '6', 's', 'c']\n",
      "mixpswrd3--> }S^3@6sc\n"
     ]
    }
   ],
   "source": [
    "import string as s\n",
    "import random as r\n",
    "print(\"string+digits--->\",s.ascii_letters+s.digits)\n",
    "mixpswrd=r.sample(s.ascii_letters+s.digits,5)\n",
    "print(\"\\nSelected str1--->\",mixpswrd)\n",
    "mixpswrd=\"\".join(mixpswrd)\n",
    "print(\"mixpswrd1-->\",mixpswrd)\n",
    "\n",
    "mixpswrd=r.sample(s.ascii_letters+s.digits,6)\n",
    "print(\"\\nSelected str2--->\",mixpswrd)\n",
    "mixpswrd=\"\".join(mixpswrd)\n",
    "print(\"mixpswrd2-->\",mixpswrd)\n",
    "\n",
    "splchar=\"#@!~%^&*()_+=-[]{}|\"\n",
    "mixpswrd=r.sample(splchar+s.ascii_letters+s.digits,8)\n",
    "print(\"\\nSelected str3--->\",mixpswrd)\n",
    "mixpswrd=\"\".join(mixpswrd)\n",
    "print(\"mixpswrd3-->\",mixpswrd)\n",
    "\n"
   ]
  },
  {
   "cell_type": "code",
   "execution_count": 3,
   "metadata": {},
   "outputs": [
    {
     "name": "stdout",
     "output_type": "stream",
     "text": [
      "100/ -5 ---> -20.0\n",
      "100/ -4 ---> -25.0\n",
      "100/ -3 ---> -33.333333333333336\n",
      "100/ -2 ---> -50.0\n",
      "100/ -1 ---> -100.0\n",
      "error\n",
      "100/ 1 ---> 100.0\n",
      "100/ 2 ---> 50.0\n",
      "100/ 3 ---> 33.333333333333336\n",
      "100/ 4 ---> 25.0\n",
      "100/ 5 ---> 20.0\n"
     ]
    }
   ],
   "source": [
    "for i in range(-5,6):\n",
    "    try:\n",
    "        print(\"100/\",i,\"--->\",100/i)\n",
    "    except:\n",
    "        print(\"error\")"
   ]
  },
  {
   "cell_type": "code",
   "execution_count": 4,
   "metadata": {},
   "outputs": [
    {
     "name": "stdout",
     "output_type": "stream",
     "text": [
      "i--> 1\n",
      "i--> 2\n",
      "i--> 3\n",
      "i--> 4\n",
      "error\n",
      "error\n",
      "error\n",
      "error\n"
     ]
    }
   ],
   "source": [
    "L=[1,2,3,4]\n",
    "for i in range(8):\n",
    "    try:\n",
    "        print(\"i-->\",L[i])\n",
    "    except:\n",
    "        print(\"error\")"
   ]
  },
  {
   "cell_type": "code",
   "execution_count": 9,
   "metadata": {},
   "outputs": [
    {
     "name": "stdout",
     "output_type": "stream",
     "text": [
      "error!!\"Sarv.txt\" File not found\n",
      "done\n"
     ]
    }
   ],
   "source": [
    "filename=input(\"enter the file name:\")\n",
    "try:\n",
    "    fp=open(filename)\n",
    "    fp.close()\n",
    "except:\n",
    "    print(\"error!!\\\"%s\\\" File not found\"%(filename))\n",
    "\n",
    "print(\"done\")"
   ]
  },
  {
   "cell_type": "code",
   "execution_count": null,
   "metadata": {},
   "outputs": [],
   "source": []
  },
  {
   "cell_type": "code",
   "execution_count": 11,
   "metadata": {},
   "outputs": [
    {
     "name": "stdout",
     "output_type": "stream",
     "text": [
      "original list: ['Sarv', 'Kaur', 31, 8]\n",
      "no. of elements in the list: 4\n"
     ]
    }
   ],
   "source": [
    "L=[\"Sarv\",\"Kaur\",31,8]\n",
    "print(\"original list:\",L)\n",
    "print(\"no. of elements in the list:\",len(L))\n"
   ]
  },
  {
   "cell_type": "code",
   "execution_count": 12,
   "metadata": {},
   "outputs": [
    {
     "name": "stdout",
     "output_type": "stream",
     "text": [
      "original list: ['Sarv', 'Kaur', 31, 8]\n",
      "Sarv\n",
      "Kaur\n",
      "31\n",
      "8\n"
     ]
    }
   ],
   "source": [
    "L=[\"Sarv\",\"Kaur\",31,8]\n",
    "print(\"original list:\",L)\n",
    "i=0\n",
    "while i<len(L):\n",
    "    print(L[i])\n",
    "    i+=1"
   ]
  },
  {
   "cell_type": "code",
   "execution_count": 13,
   "metadata": {},
   "outputs": [
    {
     "name": "stdout",
     "output_type": "stream",
     "text": [
      "original list: ['Sarv', 'Kaur', 31, 8]\n",
      "Sarv\n",
      "Kaur\n",
      "31\n",
      "8\n"
     ]
    }
   ],
   "source": [
    "L=[\"Sarv\",\"Kaur\",31,8]\n",
    "print(\"original list:\",L)\n",
    "for s in L:\n",
    "    print(s)"
   ]
  },
  {
   "cell_type": "code",
   "execution_count": 14,
   "metadata": {},
   "outputs": [
    {
     "name": "stdout",
     "output_type": "stream",
     "text": [
      "original list: ['Sarv', 'Kaur', 31, 8]\n",
      "list after adding--> ['Sarv', 'Kaur', 31, 8, 'Isha']\n",
      "list after deleting--> ['Sarv', 31, 8, 'Isha']\n"
     ]
    }
   ],
   "source": [
    "L=[\"Sarv\",\"Kaur\",31,8]\n",
    "print(\"original list:\",L)\n",
    "L.append(\"Isha\")\n",
    "print(\"list after adding-->\",L)\n",
    "del L[1]\n",
    "print(\"list after deleting-->\",L)"
   ]
  },
  {
   "cell_type": "code",
   "execution_count": 16,
   "metadata": {},
   "outputs": [
    {
     "name": "stdout",
     "output_type": "stream",
     "text": [
      "original list--> [3, 6, 9, 12, 15, 18, 21]\n",
      "sum--> 84\n",
      "average--> 12.0\n",
      "average--> 12\n",
      "L*3--> [3, 6, 9, 12, 15, 18, 21, 3, 6, 9, 12, 15, 18, 21, 3, 6, 9, 12, 15, 18, 21]\n",
      "L+L---> [3, 6, 9, 12, 15, 18, 21, 3, 6, 9, 12, 15, 18, 21]\n"
     ]
    }
   ],
   "source": [
    "L=[3,6,9,12,15,18,21]\n",
    "print(\"original list-->\",L)\n",
    "print(\"sum-->\",sum(L))\n",
    "print(\"average-->\",sum(L)/len(L))\n",
    "print(\"average-->\",sum(L)//len(L))\n",
    "print(\"L*3-->\",L*3)\n",
    "print(\"L+L--->\",L+L)"
   ]
  },
  {
   "cell_type": "code",
   "execution_count": 17,
   "metadata": {},
   "outputs": [
    {
     "name": "stdout",
     "output_type": "stream",
     "text": [
      "original list--> [3, 5, 4, 8]\n",
      "max--> 8\n",
      "min--> 3\n",
      "before sort---> [3, 5, 4, 8]\n",
      "after sort(ascending)---> [3, 4, 5, 8]\n",
      "after sort(descending)--> [8, 5, 4, 3]\n"
     ]
    }
   ],
   "source": [
    "L=[3,5,4,8]\n",
    "print(\"original list-->\",L)\n",
    "print(\"max-->\",max(L))\n",
    "print(\"min-->\",min(L))\n",
    "print(\"before sort--->\",L)\n",
    "L.sort()\n",
    "print(\"after sort(ascending)--->\",L)\n",
    "L.sort(reverse=True)\n",
    "print(\"after sort(descending)-->\",L)\n"
   ]
  },
  {
   "cell_type": "code",
   "execution_count": 18,
   "metadata": {},
   "outputs": [
    {
     "name": "stdout",
     "output_type": "stream",
     "text": [
      "L1--> [1, 2, 3]\n",
      "L2--> [4, 5, 6]\n",
      "L3--> [1, 2, 3, 4, 5, 6]\n",
      "\n",
      "L3[2:]--> [3, 4, 5, 6]\n",
      "L3[2:5]---> [3, 4, 5]\n",
      "L3[:-1]---> [1, 2, 3, 4, 5]\n",
      "L3[::2]---> [1, 3, 5]\n"
     ]
    }
   ],
   "source": [
    "L1=[1,2,3]\n",
    "L2=[4,5,6]\n",
    "L3=L1+L2\n",
    "print(\"L1-->\",L1)\n",
    "print(\"L2-->\",L2)\n",
    "print(\"L3-->\",L3)\n",
    "print(\"\\nL3[2:]-->\",L3[2:])\n",
    "print(\"L3[2:5]--->\",L3[2:5])\n",
    "print(\"L3[:-1]--->\",L3[:-1])\n",
    "print(\"L3[::2]--->\",L3[::2])"
   ]
  },
  {
   "cell_type": "code",
   "execution_count": 19,
   "metadata": {},
   "outputs": [
    {
     "name": "stdout",
     "output_type": "stream",
     "text": [
      "original list--> [12, 14, 6, 8]\n",
      "after multiplying with constant: [60, 70, 30, 40]\n"
     ]
    }
   ],
   "source": [
    "L=[12,14,6,8]\n",
    "print(\"original list-->\",L)\n",
    "newL=[i*5 for i in L]\n",
    "print(\"after multiplying with constant:\",newL)"
   ]
  },
  {
   "cell_type": "code",
   "execution_count": 21,
   "metadata": {},
   "outputs": [
    {
     "name": "stdout",
     "output_type": "stream",
     "text": [
      "original list--> True\n",
      "original list--> False\n",
      "original list--> True\n",
      "present\n",
      "not present\n"
     ]
    }
   ],
   "source": [
    "L=[12,14,6,8]\n",
    "print(\"original list-->\",6 in L)\n",
    "print(\"original list-->\",10 in L)\n",
    "print(\"original list-->\",12 in L)\n",
    "if (6 in L)==True:\n",
    "    print(\"present\")\n",
    "else:\n",
    "    print(\"not present\")\n",
    "if (10 in L)==True:\n",
    "    print(\"present\")\n",
    "else:\n",
    "    print(\"not present\")\n"
   ]
  },
  {
   "cell_type": "code",
   "execution_count": 29,
   "metadata": {},
   "outputs": [
    {
     "name": "stdout",
     "output_type": "stream",
     "text": [
      "CGPA of 1 --> 8.9\n",
      "CGPA of 2 --> 5.6\n",
      "CGPA of 4 --> 6.7\n",
      "CGPA of 8 --> 5.3\n"
     ]
    }
   ],
   "source": [
    "CGPA={1:8.9,2:5.6,4:6.7,8:5.3}\n",
    "for k in CGPA:\n",
    "    print(\"CGPA of\",k,\"-->\",CGPA[k])"
   ]
  },
  {
   "cell_type": "code",
   "execution_count": 34,
   "metadata": {},
   "outputs": [
    {
     "name": "stdout",
     "output_type": "stream",
     "text": [
      "dictionary--> {1: 9.8, 2: 5.6, 4: 6.7, 8: 5.3}\n",
      "keys--> [1, 2, 4, 8]\n",
      "values--> [9.8, 5.6, 6.7, 5.3]\n",
      "after updating(4)--> {1: 9.8, 2: 5.6, 4: 7.8, 8: 5.3}\n",
      "after adding(3)--> {1: 9.8, 2: 5.6, 4: 7.8, 8: 5.3, 3: 8.5}\n",
      "after deleting(2)--> {1: 9.8, 4: 7.8, 8: 5.3, 3: 8.5}\n",
      "after clear--> {}\n"
     ]
    }
   ],
   "source": [
    "CGPA={1:9.8,2:5.6,4:6.7,8:5.3}\n",
    "print(\"dictionary-->\",CGPA)\n",
    "print(\"keys-->\",list(CGPA.keys()))\n",
    "print(\"values-->\",list(CGPA.values()))\n",
    "\n",
    "CGPA[4]=7.8\n",
    "print(\"after updating(4)-->\",CGPA)\n",
    "\n",
    "CGPA[3]=8.5\n",
    "print(\"after adding(3)-->\",CGPA)\n",
    "\n",
    "del CGPA[2]\n",
    "print(\"after deleting(2)-->\",CGPA)\n",
    "\n",
    "CGPA.clear()\n",
    "print(\"after clear-->\",CGPA)\n",
    "\n",
    "#del CGPA\n",
    "#print(\"after delete-->\",CGPA) this will give error"
   ]
  },
  {
   "cell_type": "code",
   "execution_count": 35,
   "metadata": {},
   "outputs": [
    {
     "name": "stdout",
     "output_type": "stream",
     "text": [
      "original dictionary--> {1: 9.8, 2: 5.6, 4: 6.7, 8: 5.3}\n",
      "is key 2 present--> True\n",
      "is key 9 present--> False\n"
     ]
    }
   ],
   "source": [
    "CGPA={1:9.8,2:5.6,4:6.7,8:5.3}\n",
    "print(\"original dictionary-->\",CGPA)\n",
    "print(\"is key 2 present-->\",2 in CGPA)\n",
    "print(\"is key 9 present-->\",9 in CGPA)"
   ]
  },
  {
   "cell_type": "code",
   "execution_count": 40,
   "metadata": {},
   "outputs": [
    {
     "name": "stdout",
     "output_type": "stream",
     "text": [
      "T--> ('Sarv', 'Isha', 'Kaur', 13)\n",
      "no. of elements--> 4\n",
      "type of object--> <class 'tuple'>\n",
      "S--> (1, 'Sarv', 'Kaur')\n",
      "no. of elements--> 3\n",
      "type of object--> <class 'tuple'>\n",
      "Sarv\n",
      "Isha\n",
      "Kaur\n",
      "13\n",
      "1\n",
      "Sarv\n",
      "Kaur\n"
     ]
    }
   ],
   "source": [
    "T=(\"Sarv\",\"Isha\",\"Kaur\",13)\n",
    "print(\"T-->\",T)\n",
    "print(\"no. of elements-->\",len(T))\n",
    "print(\"type of object-->\",type(T))\n",
    "S=tuple([1,\"Sarv\",\"Kaur\"])\n",
    "print(\"S-->\",S)\n",
    "print(\"no. of elements-->\",len(S))\n",
    "print(\"type of object-->\",type(S))\n",
    "\n",
    "i=0\n",
    "while i<len(T):\n",
    "\n",
    "    print(T[i])\n",
    "    i+=1\n",
    "\n",
    "for k in range(0,len(S)):\n",
    "     print(S[k])"
   ]
  },
  {
   "cell_type": "code",
   "execution_count": 50,
   "metadata": {},
   "outputs": [
    {
     "name": "stdout",
     "output_type": "stream",
     "text": [
      "T[1]: Isha\n",
      "T[-2]: Kaur\n",
      "T[1:3]: ('Isha', 'Kaur')\n",
      "T[-4:-1]: ('Sarv', 'Isha', 'Kaur')\n",
      "sum(S): 20\n",
      "avg(S): 5.0\n",
      "avg(S): 5\n",
      "max--> 8\n",
      "min--> 2\n",
      "K: ('Sarv', 'Isha', 'Kaur', 13, 2, 4, 6, 8)\n",
      "L: ('Sarv', 'Isha', 'Kaur', 13, 'Sarv', 'Isha', 'Kaur', 13, 2, 4, 6, 8, 2, 4, 6, 8)\n",
      "T3: ('Isha', 4, 6)\n",
      "T4: ('Sarv', 'Isha', 2)\n"
     ]
    }
   ],
   "source": [
    "T=(\"Sarv\",\"Isha\",\"Kaur\",13)\n",
    "print(\"T[1]:\",T[1])\n",
    "print(\"T[-2]:\",T[-2])\n",
    "print(\"T[1:3]:\",T[1:3])\n",
    "print(\"T[-4:-1]:\",T[-4:-1])\n",
    "S=(2,4,6,8)\n",
    "print(\"sum(S):\",sum(S))\n",
    "print(\"avg(S):\",sum(S)/len(S))\n",
    "print(\"avg(S):\",sum(S)//len(S))\n",
    "print(\"max-->\",max(S))\n",
    "print(\"min-->\",min(S))\n",
    "K=T+S\n",
    "print(\"K:\",K)\n",
    "L=T+T+S+S\n",
    "print(\"L:\",L)\n",
    "T3=T[1:2]+S[1:3]\n",
    "print(\"T3:\",T3)\n",
    "T4=T[:-2]+S[:-3]\n",
    ")print(\"T4:\",T4)"
   ]
  },
  {
   "cell_type": "code",
   "execution_count": 56,
   "metadata": {},
   "outputs": [
    {
     "name": "stdout",
     "output_type": "stream",
     "text": [
      "final tuple: ('Sarv', 'Isha', 'Feb', 13, 2, 4, 6, 8, 2005)\n"
     ]
    }
   ],
   "source": [
    "K=('Sarv', 'Isha', 'Kaur', 13, 2, 4, 6, 8)\n",
    "T=list(K)\n",
    "T.append(2005)\n",
    "T.insert(2,\"Feb\")\n",
    "del T[3]\n",
    "K=tuple(T)\n",
    "print(\"final tuple:\",K)\n"
   ]
  },
  {
   "cell_type": "code",
   "execution_count": 64,
   "metadata": {},
   "outputs": [
    {
     "name": "stdout",
     "output_type": "stream",
     "text": [
      "set: {'A', 'C', 'B', 'D'}\n",
      "no of elements in set: 4\n",
      "union of s and t is: {'A', 'C', 'F', 'D', 'E', 'B'}\n",
      "intersectiom of s and t is: {'D'}\n",
      "difference of s and t is: {'A', 'C', 'B'}\n",
      "difference of t and s is: {'F', 'E'}\n",
      "symmetric difference s-t: {'C', 'F', 'E', 'A', 'B'}\n",
      "symmetric difference t-s: {'C', 'F', 'E', 'A', 'B'}\n",
      "after adding S {'F', 'E', 'S', 'D'}\n",
      "after removing D {'F', 'E', 'S'}\n",
      "set: {'S'}\n"
     ]
    }
   ],
   "source": [
    "s=set(['A','B','C','D'])\n",
    "t=set(['D','E','F'])\n",
    "print(\"set:\",s)\n",
    "print(\"no of elements in set:\",len(s))\n",
    "print(\"union of s and t is:\",s.union(t))\n",
    "print(\"intersectiom of s and t is:\",s.intersection(t))\n",
    "print(\"difference of s and t is:\",s-t)\n",
    "print(\"difference of t and s is:\",t.difference(s))\n",
    "print(\"symmetric difference s-t:\",s.symmetric_difference(t))\n",
    "print(\"symmetric difference t-s:\",t.symmetric_difference(s))\n",
    "t.add(\"S\")\n",
    "print(\"after adding S\",t)\n",
    "t.remove(\"D\")\n",
    "print(\"after removing D\",t)\n",
    "t.pop()\n",
    "t.pop()\n",
    "print(\"set:\",t)"
   ]
  },
  {
   "cell_type": "code",
   "execution_count": 73,
   "metadata": {},
   "outputs": [
    {
     "name": "stdout",
     "output_type": "stream",
     "text": [
      "writing done!!!\n",
      "Open hi there.txt to view the content\n"
     ]
    }
   ],
   "source": [
    "fp=open('hi there.txt','w')\n",
    "for i in range(1,11):\n",
    "    fp.write(str(i)+\"\\n\")\n",
    "fp.close()\n",
    "print(\"writing done!!!\\nOpen hi there.txt to view the content\")"
   ]
  },
  {
   "cell_type": "code",
   "execution_count": 74,
   "metadata": {},
   "outputs": [
    {
     "name": "stdout",
     "output_type": "stream",
     "text": [
      "1\n",
      "2\n",
      "3\n",
      "4\n",
      "5\n",
      "6\n",
      "7\n",
      "8\n",
      "9\n",
      "10\n"
     ]
    }
   ],
   "source": [
    "fp=open('hi there.txt')\n",
    "for line in fp:\n",
    "    print(line.strip())\n",
    "fp.close()"
   ]
  },
  {
   "cell_type": "code",
   "execution_count": 78,
   "metadata": {},
   "outputs": [
    {
     "name": "stdout",
     "output_type": "stream",
     "text": [
      "writing done!!!\n",
      "Open Me.txt to see the changes\n"
     ]
    }
   ],
   "source": [
    "Readfp=open('Me.txt')\n",
    "Writefp=open('hi there.txt','w')\n",
    "for line in Readfp:\n",
    "    Writefp.write(line.upper())\n",
    "Writefp.close()\n",
    "Readfp.close()\n",
    "print(\"writing done!!!\\nOpen Me.txt to see the changes\")"
   ]
  }
 ],
 "metadata": {
  "kernelspec": {
   "display_name": "base",
   "language": "python",
   "name": "python3"
  },
  "language_info": {
   "codemirror_mode": {
    "name": "ipython",
    "version": 3
   },
   "file_extension": ".py",
   "mimetype": "text/x-python",
   "name": "python",
   "nbconvert_exporter": "python",
   "pygments_lexer": "ipython3",
   "version": "3.12.7"
  }
 },
 "nbformat": 4,
 "nbformat_minor": 2
}
