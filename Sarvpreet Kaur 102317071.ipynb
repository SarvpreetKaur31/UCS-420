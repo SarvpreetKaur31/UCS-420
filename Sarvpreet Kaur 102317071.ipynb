{
 "cells": [
  {
   "cell_type": "markdown",
   "metadata": {},
   "source": [
    "Cognitive Computing Assignment Ques\n"
   ]
  },
  {
   "cell_type": "code",
   "execution_count": 1,
   "metadata": {},
   "outputs": [
    {
     "name": "stdout",
     "output_type": "stream",
     "text": [
      "Sarvpreet Kaur\n",
      "Sarvpreet Kaur\n",
      "Sarvpreet Kaur\n"
     ]
    }
   ],
   "source": [
    "print(\"Sarvpreet Kaur\")\n",
    "print(\"Sarvpreet Kaur\")\n",
    "print(\"Sarvpreet Kaur\")"
   ]
  },
  {
   "cell_type": "code",
   "execution_count": 2,
   "metadata": {},
   "outputs": [
    {
     "name": "stdout",
     "output_type": "stream",
     "text": [
      "20 + 5 + 15 ---> 40\n"
     ]
    }
   ],
   "source": [
    "a=20\n",
    "b=5\n",
    "c=15\n",
    "d=a+b+c\n",
    "print(a,\"+\",b,\"+\",c,\"--->\",d)"
   ]
  },
  {
   "cell_type": "code",
   "execution_count": 4,
   "metadata": {},
   "outputs": [
    {
     "name": "stdout",
     "output_type": "stream",
     "text": [
      "How +  are +  you ? ---> How are you ?\n"
     ]
    }
   ],
   "source": [
    "a=\"How\"\n",
    "b=\" are\"\n",
    "c=\" you ?\"\n",
    "d=a+b+c\n",
    "print(a,\"+\",b,\"+\",c,\"--->\",d)"
   ]
  },
  {
   "cell_type": "code",
   "execution_count": 11,
   "metadata": {},
   "outputs": [
    {
     "name": "stdout",
     "output_type": "stream",
     "text": [
      "Table of 7 is:\n",
      "7 * 1 = 7\n",
      "7 * 2 = 14\n",
      "7 * 3 = 21\n",
      "7 * 4 = 28\n",
      "7 * 5 = 35\n",
      "7 * 6 = 42\n",
      "7 * 7 = 49\n",
      "7 * 8 = 56\n",
      "7 * 9 = 63\n",
      "7 * 10 = 70\n",
      "Table of 9 is:\n",
      "9 * 1 = 9\n",
      "9 * 2 = 18\n",
      "9 * 3 = 27\n",
      "9 * 4 = 36\n",
      "9 * 5 = 45\n",
      "9 * 6 = 54\n",
      "9 * 7 = 63\n",
      "9 * 8 = 72\n",
      "9 * 9 = 81\n",
      "9 * 10 = 90\n"
     ]
    }
   ],
   "source": [
    "print(\"Table of 7 is:\")\n",
    "for i in range(1,11):\n",
    "    print(7,\"*\",i,\"=\",i*7)\n",
    "print(\"Table of 9 is:\")\n",
    "for i in range(1,11):\n",
    "    print(9,\"*\",i,\"=\",i*9)\n",
    "     \n"
   ]
  },
  {
   "cell_type": "code",
   "execution_count": 12,
   "metadata": {},
   "outputs": [
    {
     "name": "stdout",
     "output_type": "stream",
     "text": [
      "Table of 12 is:\n",
      "12 * 1 = 12\n",
      "12 * 2 = 24\n",
      "12 * 3 = 36\n",
      "12 * 4 = 48\n",
      "12 * 5 = 60\n",
      "12 * 6 = 72\n",
      "12 * 7 = 84\n",
      "12 * 8 = 96\n",
      "12 * 9 = 108\n",
      "12 * 10 = 120\n"
     ]
    }
   ],
   "source": [
    "n=int(input(\"Enter the number whose table you want to print\"))\n",
    "print(\"Table of\",n,\"is:\")\n",
    "for i in range(1,11):\n",
    "    print(n,\"*\",i,\"=\",i*n)\n",
    "  "
   ]
  },
  {
   "cell_type": "code",
   "execution_count": 13,
   "metadata": {},
   "outputs": [
    {
     "name": "stdout",
     "output_type": "stream",
     "text": [
      "The Sum is: 120\n"
     ]
    }
   ],
   "source": [
    "n=int(input(\"Enter the number\"))\n",
    "sum=0\n",
    "for i in range(1,n+1):\n",
    "    sum=sum+i\n",
    "print(\"The Sum is:\",sum)    \n",
    " "
   ]
  },
  {
   "cell_type": "code",
   "execution_count": 16,
   "metadata": {},
   "outputs": [
    {
     "name": "stdout",
     "output_type": "stream",
     "text": [
      "The maximum number from 4 8 and 6 is: 8\n"
     ]
    }
   ],
   "source": [
    "a=int(input(\"enter the first number\"))\n",
    "b=int(input(\"enter the second number\"))\n",
    "c=int(input(\"enter the third number\"))\n",
    "Maximum=max(a,b,c)\n",
    "print(\"The maximum number from\",a,b,\"and\",c,\"is:\",Maximum)"
   ]
  },
  {
   "cell_type": "code",
   "execution_count": 18,
   "metadata": {},
   "outputs": [
    {
     "name": "stdout",
     "output_type": "stream",
     "text": [
      "The sum of all numbers divisible by 7 and 9 from 1 to 80 is: 63\n"
     ]
    }
   ],
   "source": [
    "n=int(input(\"enter the number\"))\n",
    "sum=0;\n",
    "for i in range(1,n+1):\n",
    "    if i % 7 == 0 and i % 9 == 0:\n",
    "        sum=sum+i\n",
    "print(\"The sum of all numbers divisible by 7 and 9 from 1 to\",n,\"is:\",sum)"
   ]
  },
  {
   "cell_type": "code",
   "execution_count": 11,
   "metadata": {},
   "outputs": [
    {
     "name": "stdout",
     "output_type": "stream",
     "text": [
      "sum of all prime numbers from 1 to 15 is: 41\n"
     ]
    }
   ],
   "source": [
    "n=int(input(\"enter the number\"))\n",
    "sum=0\n",
    "for i in range(2,n+1):\n",
    "     isPrime=True\n",
    "     for j in range(2,i//2+1):\n",
    "        if i%j==0:\n",
    "            isPrime=False\n",
    "            break\n",
    "     if isPrime:\n",
    "         sum=sum+i\n",
    "print(\"sum of all prime numbers from 1 to\",n,\"is:\",sum)"
   ]
  },
  {
   "cell_type": "code",
   "execution_count": 6,
   "metadata": {},
   "outputs": [
    {
     "name": "stdout",
     "output_type": "stream",
     "text": [
      "The sum of all odd numbers from 1 to 10 is: 25\n"
     ]
    }
   ],
   "source": [
    "def add_Odd_No(n):\n",
    "    sum=0\n",
    "    for i in range(1,n+1):\n",
    "        if i%2!=0:\n",
    "            sum=sum+i\n",
    "    return sum\n",
    "n=int(input(\"enter the value of n:\")) \n",
    "result=add_Odd_No(n)    \n",
    "print(\"The sum of all odd numbers from 1 to\",n,\"is:\",result)       "
   ]
  },
  {
   "cell_type": "code",
   "execution_count": 18,
   "metadata": {},
   "outputs": [
    {
     "name": "stdout",
     "output_type": "stream",
     "text": [
      "sum of all prime numbers from 1 to 10 is: 17\n"
     ]
    }
   ],
   "source": [
    "def add_Prime_No(n):\n",
    "    sum=0\n",
    "    for i in range(2,n+1):\n",
    "     isPrime=True\n",
    "     for j in range(2,i//2+1):\n",
    "        if i%j==0:\n",
    "            isPrime=False\n",
    "            break\n",
    "     if isPrime:\n",
    "         sum=sum+i\n",
    "    return sum\n",
    "\n",
    "n=int(input(\"enter the number\")) \n",
    "result=add_Prime_No(n)  \n",
    "print(\"sum of all prime numbers from 1 to\",n,\"is:\",result)"
   ]
  }
 ],
 "metadata": {
  "kernelspec": {
   "display_name": "base",
   "language": "python",
   "name": "python3"
  },
  "language_info": {
   "codemirror_mode": {
    "name": "ipython",
    "version": 3
   },
   "file_extension": ".py",
   "mimetype": "text/x-python",
   "name": "python",
   "nbconvert_exporter": "python",
   "pygments_lexer": "ipython3",
   "version": "3.12.7"
  }
 },
 "nbformat": 4,
 "nbformat_minor": 2
}
